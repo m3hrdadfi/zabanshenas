{
  "nbformat": 4,
  "nbformat_minor": 0,
  "metadata": {
    "colab": {
      "name": "training_zabanshenas.ipynb",
      "provenance": [],
      "collapsed_sections": []
    },
    "kernelspec": {
      "name": "python3",
      "display_name": "Python 3"
    },
    "accelerator": "GPU"
  },
  "cells": [
    {
      "cell_type": "code",
      "metadata": {
        "colab": {
          "base_uri": "https://localhost:8080/"
        },
        "id": "hB1oImMg1JeV",
        "outputId": "16e7ac11-63e1-4fc8-c693-442d9e182856"
      },
      "source": [
        "!nvidia-smi"
      ],
      "execution_count": 1,
      "outputs": [
        {
          "output_type": "stream",
          "text": [
            "Fri Feb 12 16:42:23 2021       \n",
            "+-----------------------------------------------------------------------------+\n",
            "| NVIDIA-SMI 460.39       Driver Version: 460.32.03    CUDA Version: 11.2     |\n",
            "|-------------------------------+----------------------+----------------------+\n",
            "| GPU  Name        Persistence-M| Bus-Id        Disp.A | Volatile Uncorr. ECC |\n",
            "| Fan  Temp  Perf  Pwr:Usage/Cap|         Memory-Usage | GPU-Util  Compute M. |\n",
            "|                               |                      |               MIG M. |\n",
            "|===============================+======================+======================|\n",
            "|   0  Tesla T4            Off  | 00000000:00:04.0 Off |                    0 |\n",
            "| N/A   59C    P0    29W /  70W |      0MiB / 15109MiB |      0%      Default |\n",
            "|                               |                      |                  N/A |\n",
            "+-------------------------------+----------------------+----------------------+\n",
            "                                                                               \n",
            "+-----------------------------------------------------------------------------+\n",
            "| Processes:                                                                  |\n",
            "|  GPU   GI   CI        PID   Type   Process name                  GPU Memory |\n",
            "|        ID   ID                                                   Usage      |\n",
            "|=============================================================================|\n",
            "|  No running processes found                                                 |\n",
            "+-----------------------------------------------------------------------------+\n"
          ],
          "name": "stdout"
        }
      ]
    },
    {
      "cell_type": "code",
      "metadata": {
        "id": "x_HYFCjW9WA8"
      },
      "source": [
        "!git clone https://github.com/m3hrdadfi/zabanshenas\n",
        "!cp -a zabanshenas/config /content/config/"
      ],
      "execution_count": 5,
      "outputs": []
    },
    {
      "cell_type": "code",
      "metadata": {
        "colab": {
          "base_uri": "https://localhost:8080/"
        },
        "id": "yytD9NVZ2YCG",
        "outputId": "95fe7d39-48ea-43c9-f41b-824ccaa94732"
      },
      "source": [
        "!pip install -qU tokenizers\n",
        "!pip install -qU clean-text[gpl]\n",
        "!pip install -qU emoji"
      ],
      "execution_count": 6,
      "outputs": [
        {
          "output_type": "stream",
          "text": [
            "\u001b[K     |████████████████████████████████| 3.2MB 17.7MB/s \n",
            "\u001b[K     |████████████████████████████████| 133kB 23.4MB/s \n",
            "\u001b[K     |████████████████████████████████| 71kB 10.9MB/s \n",
            "\u001b[K     |████████████████████████████████| 245kB 57.6MB/s \n",
            "\u001b[?25h  Building wheel for ftfy (setup.py) ... \u001b[?25l\u001b[?25hdone\n"
          ],
          "name": "stdout"
        }
      ]
    },
    {
      "cell_type": "markdown",
      "metadata": {
        "id": "5k7QCTXu78ei"
      },
      "source": [
        "# Utils"
      ]
    },
    {
      "cell_type": "code",
      "metadata": {
        "id": "TcSlLsn279w9"
      },
      "source": [
        "import torch\n",
        "import subprocess\n",
        "\n",
        "\n",
        "def num_lines_in_file(fpath):\n",
        "    return int(subprocess.check_output('wc -l %s' % fpath, shell=True).strip().split()[0])\n",
        "\n",
        "\n",
        "def make_src_mask(\n",
        "    input_ids: torch.Tensor,\n",
        "    pad_idx: int = 0\n",
        "):\n",
        "    # input_ids shape: (batch_size, seq_len)\n",
        "    # mask shape: (batch_size, 1, 1, seq_len)\n",
        "\n",
        "    batch_size = input_ids.shape[0]\n",
        "\n",
        "    src_mask = (input_ids != pad_idx).view(batch_size, 1, 1, -1)\n",
        "\n",
        "    return src_mask\n",
        "\n",
        "\n",
        "def count_parameters(model):\n",
        "    return sum(p.numel() for p in model.parameters() if p.requires_grad)\n"
      ],
      "execution_count": 2,
      "outputs": []
    },
    {
      "cell_type": "markdown",
      "metadata": {
        "id": "JxfYfDMGxj7E"
      },
      "source": [
        "# Data"
      ]
    },
    {
      "cell_type": "code",
      "metadata": {
        "id": "JiFEFOyyBHt5"
      },
      "source": [
        "import numpy as np\n",
        "import pandas as pd\n",
        "\n",
        "from sklearn.model_selection import train_test_split\n",
        "from tqdm import tqdm\n",
        "\n",
        "from tokenizers import Tokenizer"
      ],
      "execution_count": 3,
      "outputs": []
    },
    {
      "cell_type": "code",
      "metadata": {
        "id": "IAHTEjaMLG0A"
      },
      "source": [
        "tokenizer = Tokenizer.from_file(\"./config/tokenizer.json\")"
      ],
      "execution_count": 4,
      "outputs": []
    },
    {
      "cell_type": "code",
      "metadata": {
        "colab": {
          "base_uri": "https://localhost:8080/"
        },
        "id": "pmX7pJuoAWGZ",
        "outputId": "05809ced-5086-4e80-a34f-b56836d14911"
      },
      "source": [
        "!rm ./wili-2018.zip\n",
        "!wget https://zenodo.org/record/841984/files/wili-2018.zip\n",
        "\n",
        "!mkdir -p ./wili-2018\n",
        "!unzip wili-2018.zip -d wili-2018"
      ],
      "execution_count": 5,
      "outputs": [
        {
          "output_type": "stream",
          "text": [
            "--2021-02-12 16:42:30--  https://zenodo.org/record/841984/files/wili-2018.zip\n",
            "Resolving zenodo.org (zenodo.org)... 137.138.76.77\n",
            "Connecting to zenodo.org (zenodo.org)|137.138.76.77|:443... connected.\n",
            "HTTP request sent, awaiting response... 200 OK\n",
            "Length: 62403646 (60M) [application/octet-stream]\n",
            "Saving to: ‘wili-2018.zip’\n",
            "\n",
            "wili-2018.zip       100%[===================>]  59.51M  17.1MB/s    in 3.5s    \n",
            "\n",
            "2021-02-12 16:42:34 (17.1 MB/s) - ‘wili-2018.zip’ saved [62403646/62403646]\n",
            "\n",
            "Archive:  wili-2018.zip\n",
            "replace wili-2018/x_train.txt? [y]es, [n]o, [A]ll, [N]one, [r]ename: n\n",
            "replace wili-2018/y_train.txt? [y]es, [n]o, [A]ll, [N]one, [r]ename: n\n",
            "replace wili-2018/x_test.txt? [y]es, [n]o, [A]ll, [N]one, [r]ename: n\n",
            "replace wili-2018/y_test.txt? [y]es, [n]o, [A]ll, [N]one, [r]ename: n\n",
            "replace wili-2018/labels.csv? [y]es, [n]o, [A]ll, [N]one, [r]ename: n\n",
            "replace wili-2018/README.txt? [y]es, [n]o, [A]ll, [N]one, [r]ename: n\n",
            "replace wili-2018/urls.txt? [y]es, [n]o, [A]ll, [N]one, [r]ename: n\n"
          ],
          "name": "stdout"
        }
      ]
    },
    {
      "cell_type": "code",
      "metadata": {
        "colab": {
          "base_uri": "https://localhost:8080/",
          "height": 215
        },
        "id": "EdnhX2l7BFdU",
        "outputId": "88f27a5c-ffb5-45d6-f5da-59a62e8eabb6"
      },
      "source": [
        "labels = pd.read_csv(\"./wili-2018/labels.csv\", sep=\";\")\n",
        "labels[\"Label\"] = labels[\"Label\"].replace(np.nan, 'nan', regex=True)\n",
        "languages = list(labels[\"Label\"].unique())\n",
        "print(f\"Languages {len(languages)}\")\n",
        "labels.head()"
      ],
      "execution_count": 6,
      "outputs": [
        {
          "output_type": "stream",
          "text": [
            "Languages 235\n"
          ],
          "name": "stdout"
        },
        {
          "output_type": "execute_result",
          "data": {
            "text/html": [
              "<div>\n",
              "<style scoped>\n",
              "    .dataframe tbody tr th:only-of-type {\n",
              "        vertical-align: middle;\n",
              "    }\n",
              "\n",
              "    .dataframe tbody tr th {\n",
              "        vertical-align: top;\n",
              "    }\n",
              "\n",
              "    .dataframe thead th {\n",
              "        text-align: right;\n",
              "    }\n",
              "</style>\n",
              "<table border=\"1\" class=\"dataframe\">\n",
              "  <thead>\n",
              "    <tr style=\"text-align: right;\">\n",
              "      <th></th>\n",
              "      <th>Label</th>\n",
              "      <th>English</th>\n",
              "      <th>Wiki Code</th>\n",
              "      <th>ISO 369-3</th>\n",
              "      <th>German</th>\n",
              "      <th>Language family</th>\n",
              "      <th>Writing system</th>\n",
              "      <th>Remarks</th>\n",
              "      <th>Synonyms</th>\n",
              "    </tr>\n",
              "  </thead>\n",
              "  <tbody>\n",
              "    <tr>\n",
              "      <th>0</th>\n",
              "      <td>ace</td>\n",
              "      <td>Achinese</td>\n",
              "      <td>ace</td>\n",
              "      <td>ace</td>\n",
              "      <td>Achinesisch</td>\n",
              "      <td>Austronesian</td>\n",
              "      <td>NaN</td>\n",
              "      <td>NaN</td>\n",
              "      <td>NaN</td>\n",
              "    </tr>\n",
              "    <tr>\n",
              "      <th>1</th>\n",
              "      <td>afr</td>\n",
              "      <td>Afrikaans</td>\n",
              "      <td>af</td>\n",
              "      <td>afr</td>\n",
              "      <td>Afrikaans</td>\n",
              "      <td>Indo-European</td>\n",
              "      <td>NaN</td>\n",
              "      <td>NaN</td>\n",
              "      <td>NaN</td>\n",
              "    </tr>\n",
              "    <tr>\n",
              "      <th>2</th>\n",
              "      <td>als</td>\n",
              "      <td>Alemannic German</td>\n",
              "      <td>als</td>\n",
              "      <td>gsw</td>\n",
              "      <td>Alemannisch</td>\n",
              "      <td>Indo-European</td>\n",
              "      <td>NaN</td>\n",
              "      <td>(ursprünglich nur Elsässisch)</td>\n",
              "      <td>NaN</td>\n",
              "    </tr>\n",
              "    <tr>\n",
              "      <th>3</th>\n",
              "      <td>amh</td>\n",
              "      <td>Amharic</td>\n",
              "      <td>am</td>\n",
              "      <td>amh</td>\n",
              "      <td>Amharisch</td>\n",
              "      <td>Afro-Asiatic</td>\n",
              "      <td>NaN</td>\n",
              "      <td>NaN</td>\n",
              "      <td>NaN</td>\n",
              "    </tr>\n",
              "    <tr>\n",
              "      <th>4</th>\n",
              "      <td>ang</td>\n",
              "      <td>Old English</td>\n",
              "      <td>ang</td>\n",
              "      <td>ang</td>\n",
              "      <td>Altenglisch</td>\n",
              "      <td>Indo-European</td>\n",
              "      <td>NaN</td>\n",
              "      <td>(ca. 450-1100)</td>\n",
              "      <td>Angelsächsisch</td>\n",
              "    </tr>\n",
              "  </tbody>\n",
              "</table>\n",
              "</div>"
            ],
            "text/plain": [
              "  Label           English  ...                        Remarks        Synonyms\n",
              "0   ace          Achinese  ...                            NaN             NaN\n",
              "1   afr         Afrikaans  ...                            NaN             NaN\n",
              "2   als  Alemannic German  ...  (ursprünglich nur Elsässisch)             NaN\n",
              "3   amh           Amharic  ...                            NaN             NaN\n",
              "4   ang      Old English   ...                 (ca. 450-1100)  Angelsächsisch\n",
              "\n",
              "[5 rows x 9 columns]"
            ]
          },
          "metadata": {
            "tags": []
          },
          "execution_count": 6
        }
      ]
    },
    {
      "cell_type": "code",
      "metadata": {
        "colab": {
          "base_uri": "https://localhost:8080/",
          "height": 77
        },
        "id": "IH_YYKiBEtKh",
        "outputId": "06827ca9-ba21-4efe-f8ca-593957ad41a4"
      },
      "source": [
        "# for mistaken labeling\n",
        "\n",
        "labels[labels[\"Label\"] == 'nan']"
      ],
      "execution_count": 7,
      "outputs": [
        {
          "output_type": "execute_result",
          "data": {
            "text/html": [
              "<div>\n",
              "<style scoped>\n",
              "    .dataframe tbody tr th:only-of-type {\n",
              "        vertical-align: middle;\n",
              "    }\n",
              "\n",
              "    .dataframe tbody tr th {\n",
              "        vertical-align: top;\n",
              "    }\n",
              "\n",
              "    .dataframe thead th {\n",
              "        text-align: right;\n",
              "    }\n",
              "</style>\n",
              "<table border=\"1\" class=\"dataframe\">\n",
              "  <thead>\n",
              "    <tr style=\"text-align: right;\">\n",
              "      <th></th>\n",
              "      <th>Label</th>\n",
              "      <th>English</th>\n",
              "      <th>Wiki Code</th>\n",
              "      <th>ISO 369-3</th>\n",
              "      <th>German</th>\n",
              "      <th>Language family</th>\n",
              "      <th>Writing system</th>\n",
              "      <th>Remarks</th>\n",
              "      <th>Synonyms</th>\n",
              "    </tr>\n",
              "  </thead>\n",
              "  <tbody>\n",
              "    <tr>\n",
              "      <th>142</th>\n",
              "      <td>nan</td>\n",
              "      <td>Min Nan Chinese</td>\n",
              "      <td>zh-min-nan</td>\n",
              "      <td>NaN</td>\n",
              "      <td>Min Nan</td>\n",
              "      <td>Sino-Tibetan</td>\n",
              "      <td>NaN</td>\n",
              "      <td>NaN</td>\n",
              "      <td>NaN</td>\n",
              "    </tr>\n",
              "  </tbody>\n",
              "</table>\n",
              "</div>"
            ],
            "text/plain": [
              "    Label          English   Wiki Code  ... Writing system Remarks Synonyms\n",
              "142   nan  Min Nan Chinese  zh-min-nan  ...            NaN     NaN      NaN\n",
              "\n",
              "[1 rows x 9 columns]"
            ]
          },
          "metadata": {
            "tags": []
          },
          "execution_count": 7
        }
      ]
    },
    {
      "cell_type": "code",
      "metadata": {
        "colab": {
          "base_uri": "https://localhost:8080/",
          "height": 411
        },
        "id": "EFRZqfw7Ar2v",
        "outputId": "c1285888-b274-4114-f252-e94e25be28a8"
      },
      "source": [
        "x_path = \"./wili-2018/x_train.txt\"\n",
        "y_path = \"./wili-2018/y_train.txt\"\n",
        "\n",
        "x1 = []\n",
        "with open(x_path) as f:\n",
        "    for line in tqdm(f, total=num_lines_in_file(x_path), position=0):\n",
        "        line = line.strip().replace(\"\\t\", \" \")\n",
        "        if line:\n",
        "            x1.append(line)\n",
        "\n",
        "\n",
        "y1 = []\n",
        "with open(y_path) as f:\n",
        "    for line in tqdm(f, total=num_lines_in_file(y_path), position=0):\n",
        "        line = line.strip().replace(\"\\t\", \" \")\n",
        "        if line:\n",
        "            y1.append(line)\n",
        "\n",
        "x1 = pd.DataFrame(x1, columns=[\"text\"])\n",
        "y1 = pd.DataFrame(y1, columns=[\"lang\"])\n",
        "\n",
        "df1 = pd.concat([x1, y1], axis=1)\n",
        "print(df1.info())\n",
        "df1.head()"
      ],
      "execution_count": 15,
      "outputs": [
        {
          "output_type": "stream",
          "text": [
            "100%|██████████| 117500/117500 [00:00<00:00, 244200.95it/s]\n",
            "100%|██████████| 117500/117500 [00:00<00:00, 1493259.00it/s]\n"
          ],
          "name": "stderr"
        },
        {
          "output_type": "stream",
          "text": [
            "<class 'pandas.core.frame.DataFrame'>\n",
            "RangeIndex: 117500 entries, 0 to 117499\n",
            "Data columns (total 2 columns):\n",
            " #   Column  Non-Null Count   Dtype \n",
            "---  ------  --------------   ----- \n",
            " 0   text    117500 non-null  object\n",
            " 1   lang    117500 non-null  object\n",
            "dtypes: object(2)\n",
            "memory usage: 1.8+ MB\n",
            "None\n"
          ],
          "name": "stdout"
        },
        {
          "output_type": "execute_result",
          "data": {
            "text/html": [
              "<div>\n",
              "<style scoped>\n",
              "    .dataframe tbody tr th:only-of-type {\n",
              "        vertical-align: middle;\n",
              "    }\n",
              "\n",
              "    .dataframe tbody tr th {\n",
              "        vertical-align: top;\n",
              "    }\n",
              "\n",
              "    .dataframe thead th {\n",
              "        text-align: right;\n",
              "    }\n",
              "</style>\n",
              "<table border=\"1\" class=\"dataframe\">\n",
              "  <thead>\n",
              "    <tr style=\"text-align: right;\">\n",
              "      <th></th>\n",
              "      <th>text</th>\n",
              "      <th>lang</th>\n",
              "    </tr>\n",
              "  </thead>\n",
              "  <tbody>\n",
              "    <tr>\n",
              "      <th>0</th>\n",
              "      <td>Klement Gottwaldi surnukeha palsameeriti ning ...</td>\n",
              "      <td>est</td>\n",
              "    </tr>\n",
              "    <tr>\n",
              "      <th>1</th>\n",
              "      <td>Sebes, Joseph; Pereira Thomas (1961) (på eng)....</td>\n",
              "      <td>swe</td>\n",
              "    </tr>\n",
              "    <tr>\n",
              "      <th>2</th>\n",
              "      <td>भारतीय स्वातन्त्र्य आन्दोलन राष्ट्रीय एवम क्षे...</td>\n",
              "      <td>mai</td>\n",
              "    </tr>\n",
              "    <tr>\n",
              "      <th>3</th>\n",
              "      <td>Après lo cort periòde d'establiment a Basilèa,...</td>\n",
              "      <td>oci</td>\n",
              "    </tr>\n",
              "    <tr>\n",
              "      <th>4</th>\n",
              "      <td>ถนนเจริญกรุง (อักษรโรมัน: Thanon Charoen Krung...</td>\n",
              "      <td>tha</td>\n",
              "    </tr>\n",
              "  </tbody>\n",
              "</table>\n",
              "</div>"
            ],
            "text/plain": [
              "                                                text lang\n",
              "0  Klement Gottwaldi surnukeha palsameeriti ning ...  est\n",
              "1  Sebes, Joseph; Pereira Thomas (1961) (på eng)....  swe\n",
              "2  भारतीय स्वातन्त्र्य आन्दोलन राष्ट्रीय एवम क्षे...  mai\n",
              "3  Après lo cort periòde d'establiment a Basilèa,...  oci\n",
              "4  ถนนเจริญกรุง (อักษรโรมัน: Thanon Charoen Krung...  tha"
            ]
          },
          "metadata": {
            "tags": []
          },
          "execution_count": 15
        }
      ]
    },
    {
      "cell_type": "code",
      "metadata": {
        "colab": {
          "base_uri": "https://localhost:8080/",
          "height": 411
        },
        "id": "5HDxFNfCJG_I",
        "outputId": "deac1d47-124c-4ccf-d21f-ea69cd25db8b"
      },
      "source": [
        "x_path = \"./wili-2018/x_test.txt\"\n",
        "y_path = \"./wili-2018/y_test.txt\"\n",
        "\n",
        "x2 = []\n",
        "with open(x_path) as f:\n",
        "    for line in tqdm(f, total=num_lines_in_file(x_path), position=0):\n",
        "        line = line.strip().replace(\"\\t\", \" \")\n",
        "        if line:\n",
        "            x2.append(line)\n",
        "\n",
        "\n",
        "y2 = []\n",
        "with open(y_path) as f:\n",
        "    for line in tqdm(f, total=num_lines_in_file(y_path), position=0):\n",
        "        line = line.strip().replace(\"\\t\", \" \")\n",
        "        if line:\n",
        "            y2.append(line)\n",
        "\n",
        "x2 = pd.DataFrame(x2, columns=[\"text\"])\n",
        "y2 = pd.DataFrame(y2, columns=[\"lang\"])\n",
        "\n",
        "df2 = pd.concat([x2, y2], axis=1)\n",
        "print(df2.info())\n",
        "df2.head()"
      ],
      "execution_count": 16,
      "outputs": [
        {
          "output_type": "stream",
          "text": [
            "100%|██████████| 117500/117500 [00:00<00:00, 225242.04it/s]\n",
            "100%|██████████| 117500/117500 [00:00<00:00, 1308159.35it/s]"
          ],
          "name": "stderr"
        },
        {
          "output_type": "stream",
          "text": [
            "<class 'pandas.core.frame.DataFrame'>\n",
            "RangeIndex: 117500 entries, 0 to 117499\n",
            "Data columns (total 2 columns):\n",
            " #   Column  Non-Null Count   Dtype \n",
            "---  ------  --------------   ----- \n",
            " 0   text    117500 non-null  object\n",
            " 1   lang    117500 non-null  object\n",
            "dtypes: object(2)\n",
            "memory usage: 1.8+ MB\n",
            "None\n"
          ],
          "name": "stdout"
        },
        {
          "output_type": "stream",
          "text": [
            "\n"
          ],
          "name": "stderr"
        },
        {
          "output_type": "execute_result",
          "data": {
            "text/html": [
              "<div>\n",
              "<style scoped>\n",
              "    .dataframe tbody tr th:only-of-type {\n",
              "        vertical-align: middle;\n",
              "    }\n",
              "\n",
              "    .dataframe tbody tr th {\n",
              "        vertical-align: top;\n",
              "    }\n",
              "\n",
              "    .dataframe thead th {\n",
              "        text-align: right;\n",
              "    }\n",
              "</style>\n",
              "<table border=\"1\" class=\"dataframe\">\n",
              "  <thead>\n",
              "    <tr style=\"text-align: right;\">\n",
              "      <th></th>\n",
              "      <th>text</th>\n",
              "      <th>lang</th>\n",
              "    </tr>\n",
              "  </thead>\n",
              "  <tbody>\n",
              "    <tr>\n",
              "      <th>0</th>\n",
              "      <td>Ne l fin de l seclo XIX l Japon era inda çconh...</td>\n",
              "      <td>mwl</td>\n",
              "    </tr>\n",
              "    <tr>\n",
              "      <th>1</th>\n",
              "      <td>Schiedam is gelegen tussen Rotterdam en Vlaard...</td>\n",
              "      <td>nld</td>\n",
              "    </tr>\n",
              "    <tr>\n",
              "      <th>2</th>\n",
              "      <td>ГIурусаз батальонал, гьоркьор гIарадабиги лъун...</td>\n",
              "      <td>ava</td>\n",
              "    </tr>\n",
              "    <tr>\n",
              "      <th>3</th>\n",
              "      <td>ರಾಜ್ಯಶಾಸ್ತ್ರದ ಪಿತಾಮಹೆ ಅರಿಸ್ಟಾಟಲ್. ರಾಜ್ಯಶಾಸ್ತ್ರ...</td>\n",
              "      <td>tcy</td>\n",
              "    </tr>\n",
              "    <tr>\n",
              "      <th>4</th>\n",
              "      <td>Halukum adalah kelenjar tiroid nang menonjol d...</td>\n",
              "      <td>bjn</td>\n",
              "    </tr>\n",
              "  </tbody>\n",
              "</table>\n",
              "</div>"
            ],
            "text/plain": [
              "                                                text lang\n",
              "0  Ne l fin de l seclo XIX l Japon era inda çconh...  mwl\n",
              "1  Schiedam is gelegen tussen Rotterdam en Vlaard...  nld\n",
              "2  ГIурусаз батальонал, гьоркьор гIарадабиги лъун...  ava\n",
              "3  ರಾಜ್ಯಶಾಸ್ತ್ರದ ಪಿತಾಮಹೆ ಅರಿಸ್ಟಾಟಲ್. ರಾಜ್ಯಶಾಸ್ತ್ರ...  tcy\n",
              "4  Halukum adalah kelenjar tiroid nang menonjol d...  bjn"
            ]
          },
          "metadata": {
            "tags": []
          },
          "execution_count": 16
        }
      ]
    },
    {
      "cell_type": "code",
      "metadata": {
        "colab": {
          "base_uri": "https://localhost:8080/",
          "height": 980
        },
        "id": "bj8l99LRE0is",
        "outputId": "54c42aa7-6470-4b94-a60a-649ee1aefa65"
      },
      "source": [
        "df = pd.concat([df1, df2], axis=0)\n",
        "print(df.info())\n",
        "\n",
        "df = df.dropna()\n",
        "print(df.info())\n",
        "\n",
        "df[\"lang_id\"] = df[\"lang\"].apply(lambda t: languages.index(t) if t in languages else None)\n",
        "df[\"tokens\"] = df[\"text\"].apply(lambda t: len(tokenizer.encode(t).ids))\n",
        "\n",
        "df = df.dropna()\n",
        "print(df.info())\n",
        "\n",
        "df = df.drop_duplicates()\n",
        "df = df.reset_index(drop=True)\n",
        "print(df.info())\n",
        "df.head()"
      ],
      "execution_count": 17,
      "outputs": [
        {
          "output_type": "stream",
          "text": [
            "<class 'pandas.core.frame.DataFrame'>\n",
            "Int64Index: 235000 entries, 0 to 117499\n",
            "Data columns (total 2 columns):\n",
            " #   Column  Non-Null Count   Dtype \n",
            "---  ------  --------------   ----- \n",
            " 0   text    235000 non-null  object\n",
            " 1   lang    235000 non-null  object\n",
            "dtypes: object(2)\n",
            "memory usage: 5.4+ MB\n",
            "None\n",
            "<class 'pandas.core.frame.DataFrame'>\n",
            "Int64Index: 235000 entries, 0 to 117499\n",
            "Data columns (total 2 columns):\n",
            " #   Column  Non-Null Count   Dtype \n",
            "---  ------  --------------   ----- \n",
            " 0   text    235000 non-null  object\n",
            " 1   lang    235000 non-null  object\n",
            "dtypes: object(2)\n",
            "memory usage: 5.4+ MB\n",
            "None\n",
            "<class 'pandas.core.frame.DataFrame'>\n",
            "Int64Index: 235000 entries, 0 to 117499\n",
            "Data columns (total 4 columns):\n",
            " #   Column   Non-Null Count   Dtype \n",
            "---  ------   --------------   ----- \n",
            " 0   text     235000 non-null  object\n",
            " 1   lang     235000 non-null  object\n",
            " 2   lang_id  235000 non-null  int64 \n",
            " 3   tokens   235000 non-null  int64 \n",
            "dtypes: int64(2), object(2)\n",
            "memory usage: 9.0+ MB\n",
            "None\n",
            "<class 'pandas.core.frame.DataFrame'>\n",
            "RangeIndex: 229095 entries, 0 to 229094\n",
            "Data columns (total 4 columns):\n",
            " #   Column   Non-Null Count   Dtype \n",
            "---  ------   --------------   ----- \n",
            " 0   text     229095 non-null  object\n",
            " 1   lang     229095 non-null  object\n",
            " 2   lang_id  229095 non-null  int64 \n",
            " 3   tokens   229095 non-null  int64 \n",
            "dtypes: int64(2), object(2)\n",
            "memory usage: 7.0+ MB\n",
            "None\n"
          ],
          "name": "stdout"
        },
        {
          "output_type": "execute_result",
          "data": {
            "text/html": [
              "<div>\n",
              "<style scoped>\n",
              "    .dataframe tbody tr th:only-of-type {\n",
              "        vertical-align: middle;\n",
              "    }\n",
              "\n",
              "    .dataframe tbody tr th {\n",
              "        vertical-align: top;\n",
              "    }\n",
              "\n",
              "    .dataframe thead th {\n",
              "        text-align: right;\n",
              "    }\n",
              "</style>\n",
              "<table border=\"1\" class=\"dataframe\">\n",
              "  <thead>\n",
              "    <tr style=\"text-align: right;\">\n",
              "      <th></th>\n",
              "      <th>text</th>\n",
              "      <th>lang</th>\n",
              "      <th>lang_id</th>\n",
              "      <th>tokens</th>\n",
              "    </tr>\n",
              "  </thead>\n",
              "  <tbody>\n",
              "    <tr>\n",
              "      <th>0</th>\n",
              "      <td>Klement Gottwaldi surnukeha palsameeriti ning ...</td>\n",
              "      <td>est</td>\n",
              "      <td>52</td>\n",
              "      <td>125</td>\n",
              "    </tr>\n",
              "    <tr>\n",
              "      <th>1</th>\n",
              "      <td>Sebes, Joseph; Pereira Thomas (1961) (på eng)....</td>\n",
              "      <td>swe</td>\n",
              "      <td>198</td>\n",
              "      <td>82</td>\n",
              "    </tr>\n",
              "    <tr>\n",
              "      <th>2</th>\n",
              "      <td>भारतीय स्वातन्त्र्य आन्दोलन राष्ट्रीय एवम क्षे...</td>\n",
              "      <td>mai</td>\n",
              "      <td>124</td>\n",
              "      <td>322</td>\n",
              "    </tr>\n",
              "    <tr>\n",
              "      <th>3</th>\n",
              "      <td>Après lo cort periòde d'establiment a Basilèa,...</td>\n",
              "      <td>oci</td>\n",
              "      <td>155</td>\n",
              "      <td>401</td>\n",
              "    </tr>\n",
              "    <tr>\n",
              "      <th>4</th>\n",
              "      <td>ถนนเจริญกรุง (อักษรโรมัน: Thanon Charoen Krung...</td>\n",
              "      <td>tha</td>\n",
              "      <td>207</td>\n",
              "      <td>174</td>\n",
              "    </tr>\n",
              "  </tbody>\n",
              "</table>\n",
              "</div>"
            ],
            "text/plain": [
              "                                                text lang  lang_id  tokens\n",
              "0  Klement Gottwaldi surnukeha palsameeriti ning ...  est       52     125\n",
              "1  Sebes, Joseph; Pereira Thomas (1961) (på eng)....  swe      198      82\n",
              "2  भारतीय स्वातन्त्र्य आन्दोलन राष्ट्रीय एवम क्षे...  mai      124     322\n",
              "3  Après lo cort periòde d'establiment a Basilèa,...  oci      155     401\n",
              "4  ถนนเจริญกรุง (อักษรโรมัน: Thanon Charoen Krung...  tha      207     174"
            ]
          },
          "metadata": {
            "tags": []
          },
          "execution_count": 17
        }
      ]
    },
    {
      "cell_type": "code",
      "metadata": {
        "id": "5d2X0eGvLNm-",
        "colab": {
          "base_uri": "https://localhost:8080/",
          "height": 287
        },
        "outputId": "46e20e10-41f0-4a47-89dc-d7e200936cbe"
      },
      "source": [
        "df[[\"tokens\"]].describe()"
      ],
      "execution_count": 18,
      "outputs": [
        {
          "output_type": "execute_result",
          "data": {
            "text/html": [
              "<div>\n",
              "<style scoped>\n",
              "    .dataframe tbody tr th:only-of-type {\n",
              "        vertical-align: middle;\n",
              "    }\n",
              "\n",
              "    .dataframe tbody tr th {\n",
              "        vertical-align: top;\n",
              "    }\n",
              "\n",
              "    .dataframe thead th {\n",
              "        text-align: right;\n",
              "    }\n",
              "</style>\n",
              "<table border=\"1\" class=\"dataframe\">\n",
              "  <thead>\n",
              "    <tr style=\"text-align: right;\">\n",
              "      <th></th>\n",
              "      <th>tokens</th>\n",
              "    </tr>\n",
              "  </thead>\n",
              "  <tbody>\n",
              "    <tr>\n",
              "      <th>count</th>\n",
              "      <td>229095.000000</td>\n",
              "    </tr>\n",
              "    <tr>\n",
              "      <th>mean</th>\n",
              "      <td>165.281979</td>\n",
              "    </tr>\n",
              "    <tr>\n",
              "      <th>std</th>\n",
              "      <td>464.815900</td>\n",
              "    </tr>\n",
              "    <tr>\n",
              "      <th>min</th>\n",
              "      <td>29.000000</td>\n",
              "    </tr>\n",
              "    <tr>\n",
              "      <th>25%</th>\n",
              "      <td>75.000000</td>\n",
              "    </tr>\n",
              "    <tr>\n",
              "      <th>50%</th>\n",
              "      <td>116.000000</td>\n",
              "    </tr>\n",
              "    <tr>\n",
              "      <th>75%</th>\n",
              "      <td>190.000000</td>\n",
              "    </tr>\n",
              "    <tr>\n",
              "      <th>max</th>\n",
              "      <td>146683.000000</td>\n",
              "    </tr>\n",
              "  </tbody>\n",
              "</table>\n",
              "</div>"
            ],
            "text/plain": [
              "              tokens\n",
              "count  229095.000000\n",
              "mean      165.281979\n",
              "std       464.815900\n",
              "min        29.000000\n",
              "25%        75.000000\n",
              "50%       116.000000\n",
              "75%       190.000000\n",
              "max    146683.000000"
            ]
          },
          "metadata": {
            "tags": []
          },
          "execution_count": 18
        }
      ]
    },
    {
      "cell_type": "code",
      "metadata": {
        "colab": {
          "base_uri": "https://localhost:8080/"
        },
        "id": "0pBuxdK7Lkcc",
        "outputId": "cd925ec9-c800-4ba6-bd73-ef378f1112bf"
      },
      "source": [
        "print(f'max_len 256, rate: {len(df[df[\"tokens\"] <= 256]) / len(df)}')\n",
        "print(f'max_len 512, rate: {len(df[df[\"tokens\"] <= 512]) / len(df)}')"
      ],
      "execution_count": 19,
      "outputs": [
        {
          "output_type": "stream",
          "text": [
            "max_len 256, rate: 0.8574696086776228\n",
            "max_len 512, rate: 0.9721076409349833\n"
          ],
          "name": "stdout"
        }
      ]
    },
    {
      "cell_type": "code",
      "metadata": {
        "colab": {
          "base_uri": "https://localhost:8080/"
        },
        "id": "odfi_4k7xsy4",
        "outputId": "00b0b649-233e-4cba-c0fd-2cb10178c714"
      },
      "source": [
        "train, test = train_test_split(df, test_size=0.2, random_state=101, stratify=df[\"lang\"])\n",
        "train, valid = train_test_split(df, test_size=0.1, random_state=101, stratify=df[\"lang\"])\n",
        "\n",
        "print(train.shape)\n",
        "print(valid.shape)\n",
        "print(test.shape)\n",
        "\n",
        "!rm -rf ./data\n",
        "!mkdir -p ./data\n",
        "\n",
        "train.to_json(\"./data/train.json\")\n",
        "valid.to_json(\"./data/valid.json\")\n",
        "test.to_json(\"./data/test.json\")"
      ],
      "execution_count": 20,
      "outputs": [
        {
          "output_type": "stream",
          "text": [
            "(206185, 4)\n",
            "(22910, 4)\n",
            "(45819, 4)\n"
          ],
          "name": "stdout"
        }
      ]
    },
    {
      "cell_type": "code",
      "metadata": {
        "colab": {
          "base_uri": "https://localhost:8080/"
        },
        "id": "C-njoFePEAUv",
        "outputId": "7b4fdf47-da8b-4a86-f973-e45f31aaffec"
      },
      "source": [
        "ntrain = pd.read_json(\"./data/train.json\")\n",
        "ntrain.info()"
      ],
      "execution_count": 21,
      "outputs": [
        {
          "output_type": "stream",
          "text": [
            "<class 'pandas.core.frame.DataFrame'>\n",
            "Int64Index: 206185 entries, 215013 to 110806\n",
            "Data columns (total 4 columns):\n",
            " #   Column   Non-Null Count   Dtype \n",
            "---  ------   --------------   ----- \n",
            " 0   text     206185 non-null  object\n",
            " 1   lang     206185 non-null  object\n",
            " 2   lang_id  206185 non-null  int64 \n",
            " 3   tokens   206185 non-null  int64 \n",
            "dtypes: int64(2), object(2)\n",
            "memory usage: 7.9+ MB\n"
          ],
          "name": "stdout"
        }
      ]
    },
    {
      "cell_type": "code",
      "metadata": {
        "colab": {
          "base_uri": "https://localhost:8080/"
        },
        "id": "s4_tabyJDoqr",
        "outputId": "21d4dc03-dcc5-4243-e671-a1f4b0f5972d"
      },
      "source": [
        "nvalid = pd.read_json(\"./data/valid.json\")\n",
        "nvalid.info()"
      ],
      "execution_count": 22,
      "outputs": [
        {
          "output_type": "stream",
          "text": [
            "<class 'pandas.core.frame.DataFrame'>\n",
            "Int64Index: 22910 entries, 152571 to 184683\n",
            "Data columns (total 4 columns):\n",
            " #   Column   Non-Null Count  Dtype \n",
            "---  ------   --------------  ----- \n",
            " 0   text     22910 non-null  object\n",
            " 1   lang     22910 non-null  object\n",
            " 2   lang_id  22910 non-null  int64 \n",
            " 3   tokens   22910 non-null  int64 \n",
            "dtypes: int64(2), object(2)\n",
            "memory usage: 894.9+ KB\n"
          ],
          "name": "stdout"
        }
      ]
    },
    {
      "cell_type": "code",
      "metadata": {
        "colab": {
          "base_uri": "https://localhost:8080/"
        },
        "id": "ZGooIA5YMWUu",
        "outputId": "240a8093-8480-40b8-8efa-07646ea80db0"
      },
      "source": [
        "ntest = pd.read_json(\"./data/test.json\")\n",
        "ntest.info()"
      ],
      "execution_count": 23,
      "outputs": [
        {
          "output_type": "stream",
          "text": [
            "<class 'pandas.core.frame.DataFrame'>\n",
            "Int64Index: 45819 entries, 8157 to 15087\n",
            "Data columns (total 4 columns):\n",
            " #   Column   Non-Null Count  Dtype \n",
            "---  ------   --------------  ----- \n",
            " 0   text     45819 non-null  object\n",
            " 1   lang     45819 non-null  object\n",
            " 2   lang_id  45819 non-null  int64 \n",
            " 3   tokens   45819 non-null  int64 \n",
            "dtypes: int64(2), object(2)\n",
            "memory usage: 1.7+ MB\n"
          ],
          "name": "stdout"
        }
      ]
    },
    {
      "cell_type": "code",
      "metadata": {
        "colab": {
          "base_uri": "https://localhost:8080/"
        },
        "id": "w1zyhwmy_hDh",
        "outputId": "75f12515-70fe-489a-e847-40adec919102"
      },
      "source": [
        "idx = np.random.randint(0, len(ntest))\n",
        "\n",
        "sample_text = ntest.iloc[idx][\"text\"]\n",
        "encoded = tokenizer.encode(sample_text.strip())\n",
        "\n",
        "print(f\"Tokens: {len(encoded.ids)}\")\n",
        "print(f\"        Text: {sample_text}\")\n",
        "print(f\"Decoded Text: {tokenizer.decode(encoded.ids)}\")"
      ],
      "execution_count": 24,
      "outputs": [
        {
          "output_type": "stream",
          "text": [
            "Tokens: 71\n",
            "        Text: Эволюция — акъыртын, секриусюз (революцияча болмай) тюрлениуледен къуралгъан айныу процессди. Эволюцияны юсюнден айтсакъ, кёбюсюне биологиялыкъ эволюцияны юсюнден айтабыз.\n",
            "Decoded Text:  Эволюция — акъыртын, секриусюз (революцияча болмай) тюрлениуледен къуралгъан айныу процессди. Эволюцияны юсюнден айтсакъ, кёбюсюне биологиялыкъ эволюцияны юсюнден айтабыз.\n"
          ],
          "name": "stdout"
        }
      ]
    },
    {
      "cell_type": "code",
      "metadata": {
        "colab": {
          "base_uri": "https://localhost:8080/"
        },
        "id": "aG0HPaL2_wY0",
        "outputId": "8a57db5b-3a8c-4d6a-c066-58d0a52abab8"
      },
      "source": [
        "print(f\"There are {len(languages)} languages in this dataset\")"
      ],
      "execution_count": 25,
      "outputs": [
        {
          "output_type": "stream",
          "text": [
            "There are 235 languages in this dataset\n"
          ],
          "name": "stdout"
        }
      ]
    },
    {
      "cell_type": "markdown",
      "metadata": {
        "id": "Cvk4TCMj0_gC"
      },
      "source": [
        "# Attentions"
      ]
    },
    {
      "cell_type": "code",
      "metadata": {
        "id": "DjAbYKjew1r6"
      },
      "source": [
        "from typing import Optional\n",
        "import torch\n",
        "from torch import nn as nn\n",
        "\n",
        "\n",
        "class ScaledDotProductAttention(nn.Module):\n",
        "    \"\"\" Page 4, Chapter 3.2.1, Scaled Dot-Product Attention \"\"\"\n",
        "\n",
        "    def __init__(\n",
        "        self,\n",
        "        scaler: int,\n",
        "        dropout_rate: float = 0.1\n",
        "    ):\n",
        "        super().__init__()\n",
        "        self.scaler = scaler\n",
        "        self.dropout = nn.Dropout(dropout_rate)\n",
        "        self.softmax = nn.Softmax(dim=-1)\n",
        "\n",
        "    def forward(\n",
        "        self,\n",
        "        query: torch.Tensor,\n",
        "        key: torch.Tensor,\n",
        "        value: torch.Tensor,\n",
        "        mask: Optional[torch.Tensor] = None\n",
        "    ):\n",
        "        # attention shape: (batch_size, heads, seq_len, seq_len)\n",
        "        # query shape: (batch_size, heads, seq_len, d_k)\n",
        "        # key shape: (batch_size, heads, seq_len, d_k) -> (batch_size, heads, d_k, seq_len)\n",
        "        # -> (batch_size, heads, seq_len, seq_len)\n",
        "        attention = torch.matmul(query * self.scaler, key.transpose(-2, -1))\n",
        "\n",
        "        if mask is not None:\n",
        "            attention = attention.masked_fill(mask == torch.tensor(False), -1e7)\n",
        "\n",
        "        attention = self.dropout(self.softmax(attention))\n",
        "\n",
        "        # attention shape: (batch_size, heads, seq_len, seq_len)\n",
        "        # value shape: (batch_size, heads, seq_len, d_v)\n",
        "        # output shape: (batch_size, heads, seq_len, d_v)\n",
        "        output = torch.matmul(attention, value)\n",
        "\n",
        "        return output, attention\n",
        "\n",
        "\n",
        "class MultiHeadAttention(nn.Module):\n",
        "    \"\"\" Page 4-5, Chapter 3.2.2, Multi-Head Attention \"\"\"\n",
        "\n",
        "    def __init__(\n",
        "        self,\n",
        "        d_model: int,\n",
        "        heads: int,\n",
        "        keep_attention: bool = False,\n",
        "        dropout_rate: int = 0.1\n",
        "    ):\n",
        "        super().__init__()\n",
        "\n",
        "        assert d_model % heads == 0, \"`d_model` needs to be divisible by `heads`\"\n",
        "\n",
        "        self.d_model = d_model\n",
        "        self.heads = heads\n",
        "        self.keep_attention = keep_attention\n",
        "\n",
        "        d_k = d_v = d_model // heads\n",
        "        self.d_k = d_k\n",
        "        self.d_v = d_v\n",
        "        self.scale = 1 / (d_k ** 0.5)\n",
        "\n",
        "        self.W_Q = nn.Linear(d_model, heads * d_k)\n",
        "        self.W_K = nn.Linear(d_model, heads * d_k)\n",
        "        self.W_V = nn.Linear(d_model, heads * d_v)\n",
        "        self.fc = nn.Linear(heads * d_v, d_model)\n",
        "\n",
        "        self.attention = ScaledDotProductAttention(d_k ** 0.5)\n",
        "        self.dropout = nn.Dropout(dropout_rate)\n",
        "        self.norm = nn.LayerNorm(d_model)\n",
        "\n",
        "    def forward(\n",
        "        self,\n",
        "        query: torch.Tensor,\n",
        "        key: torch.Tensor,\n",
        "        value: torch.Tensor,\n",
        "        mask: Optional[torch.Tensor] = None\n",
        "    ):\n",
        "        # query shape: (batch_size, seq_len, heads x d_k)\n",
        "        # key shape: (batch_size, seq_len, heads x d_k)\n",
        "        # value shape: (batch_size, seq_len, heads x d_v)\n",
        "\n",
        "        batch_size = query.shape[0]\n",
        "        residual = query\n",
        "\n",
        "        # Attention projection\n",
        "        # query shape: (batch_size, seq_len, heads x d_k) => (batch_size, seq_len, heads, d_k) => (batch_size, heads, seq_len, d_k)\n",
        "        # key shape: (batch_size, seq_len, heads x d_k) => (batch_size, seq_len, heads, d_k) => (batch_size, heads, seq_len, d_k)\n",
        "        # value shape: (batch_size, seq_len, heads x d_v) => (batch_size, seq_len, heads, d_k) => (batch_size, heads, seq_len, d_v)\n",
        "        query = self.W_Q(query).view(batch_size, -1, self.heads, self.d_k).transpose(1, 2)\n",
        "        key = self.W_K(key).view(batch_size, -1, self.heads, self.d_k).transpose(1, 2)\n",
        "        value = self.W_V(value).view(batch_size, -1, self.heads, self.d_v).transpose(1, 2)\n",
        "\n",
        "        x, attention = self.attention(query, key, value, mask=mask)\n",
        "\n",
        "        # x (context) shape: (batch_size, heads, seq_len, d_v)\n",
        "        # x reshape steps:\n",
        "        # (batch_size, heads, seq_len, d_v) -> (batch_size, seq_len, heads, d_v)\n",
        "        # (batch_size, seq_len, heads, d_v) -> (batch_size, seq_len, heads x d_v)\n",
        "        x = x.transpose(1, 2).reshape(batch_size, -1, self.heads * self.d_v)\n",
        "        x = self.dropout(self.fc(x))\n",
        "\n",
        "        x = residual + x\n",
        "        x = self.norm(x)\n",
        "\n",
        "        if self.keep_attention:\n",
        "            return x, attention.detach()\n",
        "\n",
        "        return x\n"
      ],
      "execution_count": 8,
      "outputs": []
    },
    {
      "cell_type": "markdown",
      "metadata": {
        "id": "Ce79KRIh2hlC"
      },
      "source": [
        "# Positionals"
      ]
    },
    {
      "cell_type": "code",
      "metadata": {
        "id": "vR_zbLAwxlAt"
      },
      "source": [
        "import numpy as np\n",
        "import torch\n",
        "from torch import nn as nn\n",
        "\n",
        "\n",
        "class Embedding(nn.Module):\n",
        "    \"\"\" Page 5, Chapter 3.4, Embeddings and Softmax \"\"\"\n",
        "\n",
        "    def __init__(\n",
        "        self,\n",
        "        n_vocab: int,\n",
        "        d_model: int,\n",
        "        pad_idx: int = 0,\n",
        "        scale_wte: bool = False\n",
        "    ):\n",
        "        super().__init__()\n",
        "\n",
        "        self.n_vocab = n_vocab\n",
        "        self.d_model = d_model\n",
        "        self.pad_idx = pad_idx\n",
        "        self.scale_wte = scale_wte\n",
        "\n",
        "        self.wte = nn.Embedding(n_vocab, d_model, padding_idx=pad_idx)\n",
        "\n",
        "    def forward(\n",
        "        self,\n",
        "        input_ids: torch.Tensor,\n",
        "    ):\n",
        "        # input_ids shape: (batch_size, seq_len)\n",
        "\n",
        "        embeddings = self.wte(input_ids)\n",
        "\n",
        "        if self.scale_wte:\n",
        "            embeddings = embeddings * (self.d_model ** 0.5)\n",
        "\n",
        "        # embeddings shape: (batch_size, seq_len, d_model)\n",
        "        return embeddings\n",
        "\n",
        "\n",
        "class FixedPositionalEncoding(nn.Module):\n",
        "    \"\"\" \n",
        "    Page 5-6, Chapter 3.5, Fixed Positional Encoding \n",
        "    Page 7, Chapter 5.4, Regularization\n",
        "    \"\"\"\n",
        "\n",
        "    def __init__(\n",
        "        self,\n",
        "        d_model: int,\n",
        "        n_position: int = 5000,\n",
        "        dropout_rate: float = 0.1\n",
        "    ):\n",
        "        super().__init__()\n",
        "        self.dropout = nn.Dropout(dropout_rate)\n",
        "        self.register_buffer(\n",
        "            \"positional_encoding\",\n",
        "            self._get_sinusoid_positional_encodeing(d_model, n_position)\n",
        "        )\n",
        "\n",
        "    def _get_sinusoid_positional_encodeing(\n",
        "        self,\n",
        "        d_model: int,\n",
        "        n_position: int = 5000\n",
        "    ):\n",
        "        encodings = torch.zeros(n_position, d_model)\n",
        "        position = torch.arange(0, n_position).unsqueeze(1)\n",
        "\n",
        "        two_i = torch.arange(0, d_model, 2, dtype=torch.float)\n",
        "        div_term = torch.exp(two_i * -(np.log(10000.0 / d_model)))\n",
        "\n",
        "        encodings[:, 0::2] = torch.sin(position * div_term)  # 2i\n",
        "        encodings[:, 1::2] = torch.cos(position * div_term)  # 2i+1\n",
        "\n",
        "        # encodings = encodings.unsqueeze(1).requires_grad_(False)\n",
        "        return encodings\n",
        "\n",
        "    def forward(\n",
        "        self,\n",
        "        x: torch.Tensor\n",
        "    ):\n",
        "        # x shape: (batch_size, seq_len, d_model)\n",
        "        # pe = self.positional_encoding[:x.shape[0]]\n",
        "        pe = self.positional_encoding[:x.shape[1]]\n",
        "        return self.dropout(x + pe)\n",
        "\n",
        "\n",
        "class LearnedPositionalEncoding(nn.Module):\n",
        "    \"\"\" \n",
        "    Page 5-6, Chapter 3.5, Fixed Positional Encoding \n",
        "    Page 7, Chapter 5.4, Regularization\n",
        "    \"\"\"\n",
        "\n",
        "    def __init__(\n",
        "        self,\n",
        "        d_model: int,\n",
        "        n_position: int = 5000,\n",
        "        dropout_rate: float = 0.1\n",
        "    ):\n",
        "        super().__init__()\n",
        "        self.dropout = nn.Dropout(dropout_rate)\n",
        "\n",
        "        # self.positional_encoding = nn.Parameter(torch.zeros(n_position, 1, d_model), requires_grad=True)\n",
        "        self.positional_encoding = nn.Parameter(torch.zeros(n_position, d_model), requires_grad=True)\n",
        "\n",
        "    def forward(\n",
        "        self,\n",
        "        x: torch.Tensor\n",
        "    ):\n",
        "        # x shape: (batch_size, seq_len, d_model)\n",
        "        # pe = self.positional_encoding[:x.shape[0]]\n",
        "\n",
        "        pe = self.positional_encoding[:x.shape[1]]\n",
        "        return self.dropout(x + pe)\n",
        "\n",
        "\n",
        "class PositionWiseFeedForward(nn.Module):\n",
        "    \"\"\" Page 5, Chapter 3.3, Position-wise Feed-Forward Networks \"\"\"\n",
        "\n",
        "    def __init__(\n",
        "        self,\n",
        "        d_model: int,\n",
        "        d_ff: int,\n",
        "        dropout_rate: float = 0.1,\n",
        "        activation=nn.ReLU(),\n",
        "        bias1: bool = True,\n",
        "        bias2: bool = True,\n",
        "    ):\n",
        "        super().__init__()\n",
        "\n",
        "        self.L1 = nn.Linear(d_model, d_ff, bias=bias1)\n",
        "        self.activation = activation\n",
        "        self.L2 = nn.Linear(d_ff, d_model, bias=bias2)\n",
        "        self.dropout = nn.Dropout(dropout_rate)\n",
        "        self.norm = nn.LayerNorm(d_model)\n",
        "\n",
        "    def forward(\n",
        "        self,\n",
        "        x: torch.Tensor\n",
        "    ):\n",
        "        # x shape: (batch_size, seq_len, d_model)\n",
        "        residual = x\n",
        "\n",
        "        L1 = self.L1(x)\n",
        "        L1 = self.activation(L1)\n",
        "\n",
        "        L2 = self.L2(L1)\n",
        "        L2 = self.dropout(L2)\n",
        "\n",
        "        x = residual + L2\n",
        "        x = self.norm(x)\n",
        "\n",
        "        return x\n"
      ],
      "execution_count": 9,
      "outputs": []
    },
    {
      "cell_type": "markdown",
      "metadata": {
        "id": "MQjVJcXK2nWE"
      },
      "source": [
        "# Layers"
      ]
    },
    {
      "cell_type": "code",
      "metadata": {
        "id": "Mv2iNMS52m4a"
      },
      "source": [
        "import torch\n",
        "from torch import nn as nn\n",
        "\n",
        "# from attentions import MultiHeadAttention\n",
        "# from positionals import PositionWiseFeedForward\n",
        "\n",
        "\n",
        "class EncoderLayer(nn.Module):\n",
        "    \"\"\" Page 3, Chapter 3.1, Figure 1, Encoder Layer \"\"\"\n",
        "\n",
        "    def __init__(\n",
        "        self,\n",
        "        d_model: int,\n",
        "        attention: MultiHeadAttention,\n",
        "        feed_forward: PositionWiseFeedForward,\n",
        "        keep_attention: bool = False\n",
        "    ):\n",
        "        super().__init__()\n",
        "\n",
        "        self.d_model = d_model\n",
        "        self.keep_attention = keep_attention\n",
        "\n",
        "        self.attention = attention\n",
        "        self.feed_forward = feed_forward\n",
        "\n",
        "    def forward(\n",
        "        self,\n",
        "        src: torch.Tensor,\n",
        "        src_mask: torch.Tensor,\n",
        "    ):\n",
        "        # src, src_mask\n",
        "        attention_list = None\n",
        "\n",
        "        if self.keep_attention:\n",
        "            x, attention_list = self.attention(\n",
        "                query=src,\n",
        "                key=src,\n",
        "                value=src,\n",
        "                mask=src_mask\n",
        "            )\n",
        "\n",
        "        else:\n",
        "            x = self.attention(\n",
        "                query=src,\n",
        "                key=src,\n",
        "                value=src,\n",
        "                mask=src_mask\n",
        "            )\n",
        "\n",
        "        x = self.feed_forward(x)\n",
        "\n",
        "        if self.keep_attention:\n",
        "            return x, attention_list\n",
        "\n",
        "        return x\n",
        "\n",
        "\n",
        "class DecoderLayer(nn.Module):\n",
        "    \"\"\" Page 3, Chapter 3.1, Figure 1, Decoder Layer \"\"\"\n",
        "\n",
        "    def __init__(\n",
        "        self,\n",
        "        d_model: int,\n",
        "        attention: MultiHeadAttention,\n",
        "        src_attention: MultiHeadAttention,\n",
        "        feed_forward: PositionWiseFeedForward,\n",
        "        keep_attention: bool = False\n",
        "    ):\n",
        "        super().__init__()\n",
        "\n",
        "        self.d_model = d_model\n",
        "        self.keep_attention = keep_attention\n",
        "\n",
        "        self.attention = attention\n",
        "        self.src_attention = src_attention\n",
        "        self.feed_forward = feed_forward\n",
        "\n",
        "    def forward(\n",
        "        self,\n",
        "        tgt: torch.Tensor,\n",
        "        tgt_mask: torch.Tensor,\n",
        "        src: torch.Tensor,\n",
        "        src_mask: torch.Tensor\n",
        "    ):\n",
        "        # tgt, tgt_mask\n",
        "        # src, src_mask\n",
        "\n",
        "        attention_list = None\n",
        "        src_attention_list = None\n",
        "\n",
        "        if self.keep_attention:\n",
        "            x, attention_list = self.tgt_attention(\n",
        "                query=tgt,\n",
        "                key=tgt,\n",
        "                value=tgt,\n",
        "                mask=tgt_mask\n",
        "            )\n",
        "        else:\n",
        "            x = self.tgt_attention(\n",
        "                query=tgt,\n",
        "                key=tgt,\n",
        "                value=tgt,\n",
        "                mask=tgt_mask\n",
        "            )\n",
        "\n",
        "        if self.keep_attention:\n",
        "            x, src_attention_list = self.src_attention(\n",
        "                query=x,\n",
        "                key=src,\n",
        "                value=src,\n",
        "                mask=src_mask\n",
        "            )\n",
        "        else:\n",
        "            x = self.src_attention(\n",
        "                query=x,\n",
        "                key=src,\n",
        "                value=src,\n",
        "                mask=src_mask\n",
        "            )\n",
        "\n",
        "        x = self.feed_forward(x)\n",
        "\n",
        "        if self.keep_attention:\n",
        "            return x, [attention_list, src_attention_list]\n",
        "\n",
        "        return x\n"
      ],
      "execution_count": 10,
      "outputs": []
    },
    {
      "cell_type": "markdown",
      "metadata": {
        "id": "8wc_qFnA27FF"
      },
      "source": [
        "# Models"
      ]
    },
    {
      "cell_type": "code",
      "metadata": {
        "id": "KXJPRNsP223g"
      },
      "source": [
        "from typing import Optional\n",
        "\n",
        "import torch\n",
        "from torch import nn as nn\n",
        "\n",
        "# from attentions import MultiHeadAttention\n",
        "# from layers import EncoderLayer\n",
        "# from positionals import (\n",
        "#     Embedding,\n",
        "#     PositionWiseFeedForward,\n",
        "#     FixedPositionalEncoding as PositionalEncoding\n",
        "# )\n",
        "\n",
        "import copy\n",
        "import os\n",
        "\n",
        "import numpy as np\n",
        "from tqdm import tqdm\n",
        "from tokenizers import Tokenizer\n",
        "\n",
        "# from utils.utils import make_src_mask\n",
        "\n",
        "PositionalEncoding = FixedPositionalEncoding\n",
        "\n",
        "class Encoder(nn.Module):\n",
        "    def __init__(\n",
        "        self,\n",
        "        d_model: int,\n",
        "        heads: int,\n",
        "        n_layers: int,\n",
        "        ff_d_ff: int,\n",
        "        ff_activation: nn.Module = nn.ReLU(),\n",
        "        ff_bias1: bool = True,\n",
        "        ff_bias2: bool = True,\n",
        "        dropout_rate: float = 0.1,\n",
        "        keep_attention: bool = False\n",
        "    ):\n",
        "        super().__init__()\n",
        "\n",
        "        self.d_model = d_model\n",
        "        self.heads = heads\n",
        "        self.ff_d_ff = ff_d_ff\n",
        "        self.n_layers = n_layers\n",
        "        self.ff_activation = ff_activation\n",
        "        self.ff_bias1 = ff_bias1\n",
        "        self.ff_bias2 = ff_bias2\n",
        "        self.keep_attention = keep_attention\n",
        "\n",
        "        attention_layer = MultiHeadAttention(\n",
        "            d_model=d_model,\n",
        "            heads=heads,\n",
        "            dropout_rate=dropout_rate,\n",
        "            keep_attention=keep_attention\n",
        "        )\n",
        "        ff_layer = PositionWiseFeedForward(\n",
        "            d_model=d_model,\n",
        "            d_ff=ff_d_ff,\n",
        "            dropout_rate=dropout_rate,\n",
        "            activation=ff_activation,\n",
        "            bias1=ff_bias1,\n",
        "            bias2=ff_bias2,\n",
        "        )\n",
        "        encoder_layer = EncoderLayer(\n",
        "            d_model=d_model,\n",
        "            attention=attention_layer,\n",
        "            feed_forward=ff_layer,\n",
        "            keep_attention=keep_attention\n",
        "        )\n",
        "        self.layers = nn.ModuleList([\n",
        "            copy.deepcopy(encoder_layer) for _ in range(n_layers)\n",
        "        ])\n",
        "\n",
        "        self.norm = nn.LayerNorm(d_model)\n",
        "\n",
        "    def forward(\n",
        "        self,\n",
        "        src: torch.Tensor,\n",
        "        src_mask: torch.Tensor\n",
        "    ):\n",
        "        # src shape: (batch_size, seq_len, d_model)\n",
        "        # src_mask shape: (batch_size, 1, 1, seq_len)\n",
        "        attention_list_layers = []\n",
        "\n",
        "        x = src\n",
        "        for layer in self.layers:\n",
        "            if self.keep_attention:\n",
        "                x, attention_list = layer(src=x, src_mask=src_mask)\n",
        "                attention_list_layers.extend([attention_list])\n",
        "            else:\n",
        "                x = layer(src=x, src_mask=src_mask)\n",
        "\n",
        "        x = self.norm(x)\n",
        "\n",
        "        if self.keep_attention:\n",
        "            return x, attention_list_layers\n",
        "\n",
        "        return x\n",
        "\n",
        "\n",
        "class TransformerLangDetection(nn.Module):\n",
        "\n",
        "    def __init__(\n",
        "        self,\n",
        "        n_vocab: int,\n",
        "        pad_idx: int,\n",
        "        d_model: int,\n",
        "        heads: int,\n",
        "        ff_d_ff: int,\n",
        "        n_layers: int,\n",
        "        n_classes: int,\n",
        "        n_position: int = 5000,\n",
        "        ff_activation: nn.Module = nn.ReLU(),\n",
        "        ff_bias1: bool = True,\n",
        "        ff_bias2: bool = True,\n",
        "        dropout_rate: float = 0.1,\n",
        "        scale_wte: bool = False,\n",
        "        keep_attention: bool = False\n",
        "    ):\n",
        "        super().__init__()\n",
        "\n",
        "        self.keep_attention = keep_attention\n",
        "\n",
        "        self.wte = Embedding(n_vocab, d_model, pad_idx=pad_idx, scale_wte=scale_wte)\n",
        "        self.pe = PositionalEncoding(d_model, n_position, dropout_rate=dropout_rate)\n",
        "        self.encoder = Encoder(\n",
        "            d_model=d_model,\n",
        "            heads=heads,\n",
        "            n_layers=n_layers,\n",
        "            ff_d_ff=ff_d_ff,\n",
        "            ff_activation=ff_activation,\n",
        "            ff_bias1=ff_bias1,\n",
        "            ff_bias2=ff_bias2,\n",
        "            dropout_rate=dropout_rate,\n",
        "            keep_attention=keep_attention\n",
        "        )\n",
        "        self.classifer = nn.Linear(d_model, n_classes)\n",
        "\n",
        "        self.model_args = {\n",
        "            \"n_vocab\": n_vocab,\n",
        "            \"pad_idx\": pad_idx,\n",
        "            \"d_model\": d_model,\n",
        "            \"heads\": heads,\n",
        "            \"ff_d_ff\": ff_d_ff,\n",
        "            \"n_layers\": n_layers,\n",
        "            \"n_classes\": n_classes,\n",
        "            \"n_position\": n_position,\n",
        "            \"ff_activation\": ff_activation,\n",
        "            \"ff_bias1\": ff_bias1,\n",
        "            \"ff_bias2\": ff_bias2,\n",
        "            \"dropout_rate\": dropout_rate,\n",
        "            \"scale_wte\": scale_wte,\n",
        "            \"keep_attention\": keep_attention,\n",
        "        }\n",
        "\n",
        "    def forward(\n",
        "        self,\n",
        "        input_ids: torch.Tensor,\n",
        "        input_mask: torch.Tensor,\n",
        "    ):\n",
        "        attention_list_layers = []\n",
        "\n",
        "        embedding = self.wte(input_ids)\n",
        "        pe = self.pe(embedding)\n",
        "\n",
        "        if self.keep_attention:\n",
        "            encoded, attention_list_layers = self.encoder(pe, input_mask)\n",
        "        else:\n",
        "            encoded = self.encoder(pe, input_mask)\n",
        "\n",
        "        mean_encoded = torch.mean(encoded, dim=1)\n",
        "        logits = self.classifer(mean_encoded)\n",
        "\n",
        "        if self.keep_attention:\n",
        "            return logits, attention_list_layers\n",
        "\n",
        "        return logits\n",
        "\n",
        "    @staticmethod\n",
        "    def load_tokenizer(\n",
        "        tokenizer_file: str,\n",
        "        enable_padding: bool = True,\n",
        "        pad_token: str = \"<pad>\",\n",
        "        max_seq_len: int = 512\n",
        "    ):\n",
        "        assert os.path.exists(tokenizer_file), \"tokenizer_file does not exists\"\n",
        "        tokenizer = Tokenizer.from_file(tokenizer_file)\n",
        "\n",
        "        if enable_padding:\n",
        "            tokenizer.enable_padding(\n",
        "                direction=\"right\",\n",
        "                pad_id=tokenizer.encode(pad_token).ids[0],\n",
        "                pad_type_id=0,\n",
        "                pad_token=pad_token,\n",
        "                length=max_seq_len,\n",
        "                pad_to_multiple_of=None\n",
        "            )\n",
        "\n",
        "            tokenizer.enable_truncation(\n",
        "                max_seq_len,\n",
        "                stride=0,\n",
        "                strategy='longest_first'\n",
        "            )\n",
        "\n",
        "        return tokenizer\n",
        "\n",
        "    def save(\n",
        "        self,\n",
        "        model_dir: str,\n",
        "    ):\n",
        "        os.makedirs(model_dir, exist_ok=True)\n",
        "        torch.save(self.state_dict(), os.path.join(model_dir, \"model.bin\"))\n",
        "        torch.save(self.model_args, os.path.join(model_dir, \"model_args.bin\"))\n",
        "\n",
        "    @staticmethod\n",
        "    def load(\n",
        "        model_dir: str,\n",
        "        model_args: dict = {}\n",
        "    ):\n",
        "        assert os.path.exists(model_dir), \"model_dir does not exists\"\n",
        "\n",
        "        try:\n",
        "            model_args_default = torch.load(os.path.join(model_dir, \"model_args.bin\"))\n",
        "            model_args_default.update(model_args)\n",
        "\n",
        "            model = TransformerLangDetection(**model_args_default)\n",
        "            model.load_state_dict(torch.load(os.path.join(model_dir, \"model.bin\")))\n",
        "        except:\n",
        "            model = None\n",
        "\n",
        "        return model\n",
        "\n",
        "    def predict(\n",
        "        self,\n",
        "        x: list,\n",
        "        tokenizer: Tokenizer,\n",
        "        label_map: dict = {},\n",
        "        batch_size: int = 32,\n",
        "        progressbar: bool = True,\n",
        "        keep_attention: bool = False,\n",
        "        pad_token: str = \"<pad>\",\n",
        "        topk: int = 5,\n",
        "        device: Optional[torch.device] = None\n",
        "    ):\n",
        "        if not device:\n",
        "            device = torch.device(\"cuda\" if torch.cuda.is_available() else \"cpu\")\n",
        "\n",
        "        n_x = len(x)\n",
        "        n_batches = int(np.ceil(n_x / batch_size)) if n_x > batch_size else 1\n",
        "        has_label_map = True if isinstance(label_map, dict) and len(label_map) > 0 else False\n",
        "\n",
        "        ids_predictions = []\n",
        "        names_predictions = []\n",
        "        attention_list = None\n",
        "        input_tokens_list = []\n",
        "\n",
        "        y_preds = []\n",
        "        y_names = []\n",
        "        y_probs = []\n",
        "\n",
        "        topk_preds = []\n",
        "        topk_probs = []\n",
        "        \n",
        "        model = self\n",
        "        model = model.to(device)\n",
        "\n",
        "        keep_attention = True if model.keep_attention or keep_attention else False\n",
        "\n",
        "        for i in tqdm(range(n_batches), disable=not progressbar, position=0):\n",
        "            batch = x[i * batch_size: (i + 1) * batch_size]\n",
        "\n",
        "            input_ids = torch.tensor([tokenizer.encode(text).ids for text in batch], dtype=torch.long)\n",
        "            input_masks = make_src_mask(input_ids)\n",
        "\n",
        "            input_ids = input_ids.to(device)\n",
        "            input_masks = input_masks.to(device)\n",
        "\n",
        "            if keep_attention:\n",
        "                input_tokens = [[tokenizer.decode([token_id]) for token_id in tokenizer.encode(\n",
        "                    text).ids if token_id != tokenizer.encode(pad_token).ids[0]] for text in batch]\n",
        "                input_tokens_list.extend(input_tokens)\n",
        "\n",
        "            model.eval()\n",
        "            with torch.no_grad():\n",
        "\n",
        "                if keep_attention:\n",
        "                    outputs, _attention_list = model(input_ids, input_masks)\n",
        "                    attention_list = [attention.detach().cpu().numpy() for attention in _attention_list]\n",
        "                else:\n",
        "                    outputs = model(input_ids, input_masks)\n",
        "\n",
        "                probs, preds = torch.topk(outputs, k=topk)\n",
        "                \n",
        "                probs = probs.detach().cpu().numpy()\n",
        "                preds = preds.detach().cpu().numpy()\n",
        "\n",
        "                y_probs.extend(probs[:, 0].tolist())\n",
        "                y_preds.extend(preds[:, 0].tolist())\n",
        "\n",
        "                topk_probs.extend(probs.tolist())\n",
        "                topk_preds.extend(preds.tolist())\n",
        "\n",
        "                if has_label_map:\n",
        "                    y_names.extend([label_map.get(pred, None) for pred in preds[:, 0].tolist()])\n",
        "\n",
        "        y_probs = np.array(y_probs)\n",
        "        y_preds = np.array(y_preds)\n",
        "\n",
        "        topk_probs = np.array(topk_probs)\n",
        "        topk_preds = np.array(topk_preds)\n",
        "\n",
        "        if keep_attention:\n",
        "\n",
        "            if has_label_map:\n",
        "                return [y_probs, y_preds, y_names], [topk_probs, topk_preds], attention_list, input_tokens_list\n",
        "            else:\n",
        "                return [y_probs, y_preds], [topk_probs, topk_preds], attention_list, input_tokens_list\n",
        "\n",
        "        print(\"has_label_map\", has_label_map)\n",
        "        if has_label_map:\n",
        "            return [y_probs, y_preds, y_names], [topk_probs, topk_preds]\n",
        "\n",
        "        return [y_probs, y_preds], [topk_probs, topk_preds]\n"
      ],
      "execution_count": 153,
      "outputs": []
    },
    {
      "cell_type": "markdown",
      "metadata": {
        "id": "bLJiCcqu8whi"
      },
      "source": [
        "# Data Loader"
      ]
    },
    {
      "cell_type": "code",
      "metadata": {
        "id": "Y-WogeEm8yLY"
      },
      "source": [
        "import torch\n",
        "from torch.utils.data import Dataset\n",
        "\n",
        "import numpy as np\n",
        "import pandas as pd\n",
        "from tokenizers import Tokenizer\n",
        "import os\n",
        "\n",
        "\n",
        "class LangDataset(Dataset):\n",
        "    def __init__(\n",
        "        self,\n",
        "        json_file: str,\n",
        "        tokenizer: Tokenizer,\n",
        "        x_label: str,\n",
        "        y_label: str,\n",
        "        max_data: int = 0\n",
        "    ):\n",
        "        super().__init__()\n",
        "\n",
        "        assert os.path.exists(json_file), \"json_file does not exists\"\n",
        "\n",
        "        self.tokenizer = tokenizer\n",
        "        \n",
        "        df = pd.read_json(json_file)\n",
        "        if max_data > 0:\n",
        "            df = df.sample(n=max_data)\n",
        "            \n",
        "\n",
        "        self.x = df[x_label].values if x_label and x_label in list(df.columns) else None\n",
        "        self.has_y = False\n",
        "        self.y = None\n",
        "        self.labels = None\n",
        "\n",
        "        if y_label and y_label in list(df.columns):\n",
        "            self.has_y = True\n",
        "            self.y = df[y_label].values\n",
        "\n",
        "    def __len__(self):\n",
        "        return len(self.x)\n",
        "\n",
        "    def __getitem__(\n",
        "        self,\n",
        "        idx\n",
        "    ):\n",
        "        output = {}\n",
        "\n",
        "        x = self.x[idx]\n",
        "        output[\"input_texts\"] = x\n",
        "        output[\"input_ids\"] = torch.tensor(self.tokenizer.encode(x).ids, dtype=torch.long)\n",
        "\n",
        "        if self.has_y:\n",
        "            y = self.y[idx]\n",
        "            output[\"targets\"] = torch.tensor(y, dtype=torch.long)\n",
        "\n",
        "        return output"
      ],
      "execution_count": 12,
      "outputs": []
    },
    {
      "cell_type": "markdown",
      "metadata": {
        "id": "YZ2f18IR73pY"
      },
      "source": [
        "# Training"
      ]
    },
    {
      "cell_type": "code",
      "metadata": {
        "id": "-VEpjPKF_KAP"
      },
      "source": [
        "import torch\n",
        "from torch import nn as nn\n",
        "from torch.utils.data import Dataset, DataLoader\n",
        "\n",
        "from tokenizers import Tokenizer\n",
        "\n",
        "import numpy as np\n",
        "from tqdm import tqdm\n",
        "\n",
        "import time\n",
        "import os\n",
        "import shutil\n",
        "import glob\n",
        "\n",
        "\n",
        "# from models import TransformerLangDetection\n",
        "# from data_loader import LangDataset\n",
        "# from utils.utils import (\n",
        "#     count_parameters,\n",
        "#     make_src_mask\n",
        "# )\n",
        "\n",
        "\n",
        "device = torch.device(\"cuda\" if torch.cuda.is_available() else \"cpu\")\n",
        "\n",
        "\n",
        "def main(data_args, model_args, training_args):\n",
        "    print(f\"DataTrainingArguments: \\n{data_args.to_json()}\")\n",
        "    print(f\"ModelArguments: \\n{model_args.to_json()}\")\n",
        "    print(f\"TrainingArguments: \\n{training_args.to_json()}\")\n",
        "\n",
        "    print(\"Creating tokenizer ...\")\n",
        "    assert os.path.exists(data_args.tokenizer_file), \"tokenizer_file does not exists\"\n",
        "\n",
        "    tokenizer = Tokenizer.from_file(data_args.tokenizer_file)\n",
        "    if data_args.enable_padding:\n",
        "        tokenizer.enable_padding(\n",
        "            direction=\"right\",\n",
        "            pad_id=tokenizer.encode(data_args.pad_token).ids[0],\n",
        "            pad_type_id=0,\n",
        "            pad_token=data_args.pad_token,\n",
        "            length=data_args.max_seq_len,\n",
        "            pad_to_multiple_of=None\n",
        "        )\n",
        "\n",
        "        tokenizer.enable_truncation(\n",
        "            data_args.max_seq_len,\n",
        "            stride=0,\n",
        "            strategy='longest_first'\n",
        "        )\n",
        "\n",
        "    print(\"Creating dataset ...\")\n",
        "    train_dataset = LangDataset(\n",
        "        data_args.train_file,\n",
        "        tokenizer,\n",
        "        x_label=data_args.x_label,\n",
        "        y_label=data_args.y_label,\n",
        "        max_data=data_args.max_data\n",
        "    )\n",
        "    valid_dataset = LangDataset(\n",
        "        data_args.valid_file,\n",
        "        tokenizer,\n",
        "        x_label=data_args.x_label,\n",
        "        y_label=data_args.y_label,\n",
        "        max_data=data_args.max_data\n",
        "    )\n",
        "\n",
        "    print(\n",
        "        f\"Train dataset sample:\\n\"\n",
        "        f\"input_texts: {train_dataset[0]['input_texts'][:100]} ...\\n\"\n",
        "        f\"  input_ids: {train_dataset[0]['input_ids'][:100]}\\n\"\n",
        "        f\"    targets: {train_dataset[0]['targets']}\\n\"\n",
        "    )\n",
        "    print(\n",
        "        f\"Validation dataset sample:\\n\"\n",
        "        f\"input_texts: {train_dataset[0]['input_texts'][:100]} ...\\n\"\n",
        "        f\"  input_ids: {train_dataset[0]['input_ids'][:100]}\\n\"\n",
        "        f\"    targets: {train_dataset[0]['targets']}\\n\"\n",
        "    )\n",
        "\n",
        "    print(\"Creating dataloader ...\")\n",
        "    train_loader = DataLoader(train_dataset, batch_size=data_args.train_batch_size, shuffle=data_args.train_shuffle)\n",
        "    valid_loader = DataLoader(valid_dataset, batch_size=data_args.valid_batch_size, shuffle=data_args.valid_shuffle)\n",
        "\n",
        "    print(f\"Train dataloader shape: {next(iter(train_loader))['input_ids'].shape}\")\n",
        "    print(f\"Validation dataloader shape: {next(iter(valid_loader))['input_ids'].shape}\")\n",
        "\n",
        "    print(\"Creating model ...\")\n",
        "    model = TransformerLangDetection(\n",
        "        n_vocab=len(tokenizer.get_vocab()),\n",
        "        pad_idx=tokenizer.encode(data_args.pad_token).ids[0],\n",
        "        d_model=model_args.d_model,\n",
        "        heads=model_args.heads,\n",
        "        n_position=model_args.n_position,\n",
        "        ff_d_ff=model_args.ff_d_ff,\n",
        "        ff_activation=model_args.ff_activation,\n",
        "        ff_bias1=model_args.ff_bias1,\n",
        "        ff_bias2=model_args.ff_bias2,\n",
        "        n_layers=model_args.n_layers,\n",
        "        n_classes=model_args.n_classes,\n",
        "        dropout_rate=model_args.dropout_rate,\n",
        "        scale_wte=model_args.scale_wte,\n",
        "        keep_attention=model_args.keep_attention\n",
        "    ).to(device)\n",
        "    print()\n",
        "    print(f\"Model has {count_parameters(model):,} parameters\")\n",
        "    print()\n",
        "\n",
        "    criterion = nn.CrossEntropyLoss()\n",
        "    lr = training_args.learning_rate\n",
        "    optimizer = torch.optim.Adam(model.parameters(), lr=lr, betas=(0.95, 0.99))\n",
        "    scheduler = torch.optim.lr_scheduler.StepLR(optimizer, 1.0, gamma=0.95)\n",
        "\n",
        "    def train(epoch, steps=0):\n",
        "        model.train()\n",
        "\n",
        "        total_loss = []\n",
        "        total_acc = []\n",
        "\n",
        "        train_loss = 0\n",
        "        train_acc = 0\n",
        "\n",
        "        start_time = time.time()\n",
        "\n",
        "        for step, data in tqdm(enumerate(train_loader), total=len(train_loader)):\n",
        "            input_ids, targets = data[\"input_ids\"], data[\"targets\"]\n",
        "            input_masks = make_src_mask(input_ids)\n",
        "            batch_size = input_ids.shape[0]\n",
        "\n",
        "            optimizer.zero_grad()\n",
        "\n",
        "            input_ids = input_ids.to(device)\n",
        "            input_masks = input_masks.to(device)\n",
        "            targets = targets.to(device)\n",
        "\n",
        "            if model_args.keep_attention:\n",
        "                outputs, _ = model(input_ids, input_masks)\n",
        "            else:\n",
        "                outputs = model(input_ids, input_masks)\n",
        "\n",
        "            loss = criterion(outputs, targets)\n",
        "\n",
        "            loss.backward()\n",
        "            torch.nn.utils.clip_grad_norm_(model.parameters(), 0.5)\n",
        "            optimizer.step()\n",
        "\n",
        "            _loss = loss.item()\n",
        "            _, preds = torch.max(outputs, 1)\n",
        "            _acc = torch.sum(preds == targets).item() / batch_size\n",
        "\n",
        "            total_loss.append(_loss)\n",
        "            total_acc.append(_acc)\n",
        "\n",
        "            train_loss += _loss\n",
        "            train_acc += _acc\n",
        "\n",
        "            if step > 0 and step % training_args.log_interval == 0:\n",
        "                elapsed = time.time() - start_time\n",
        "\n",
        "                train_loss = train_loss / training_args.log_interval\n",
        "                train_acc = train_acc / training_args.log_interval\n",
        "\n",
        "                print(\n",
        "                    f\"\\tepoch {epoch:3d} | \"\n",
        "                    f\"{step:7d}/{len(train_loader):7d} batches | \"\n",
        "                    f\"lr {scheduler.get_last_lr()[0]:.7f} | \"\n",
        "                    f\"ms/batch {elapsed:5.2f} | \"\n",
        "                    f\"loss {train_loss:.4f} | \"\n",
        "                    f\"acc {train_acc * 100:.1f} | \"\n",
        "                )\n",
        "\n",
        "                train_loss = 0\n",
        "                train_acc = 0\n",
        "                start_time = time.time()\n",
        "\n",
        "            steps += step\n",
        "\n",
        "        scheduler.step()\n",
        "        return total_loss, total_acc, steps\n",
        "\n",
        "    def evaluate():\n",
        "        model.eval()\n",
        "        total_loss = []\n",
        "        total_acc = []\n",
        "\n",
        "        for data in tqdm(valid_loader, total=len(valid_loader)):\n",
        "            input_ids, targets = data[\"input_ids\"], data[\"targets\"]\n",
        "            input_masks = make_src_mask(input_ids)\n",
        "            batch_size = input_ids.shape[0]\n",
        "\n",
        "            input_ids = input_ids.to(device)\n",
        "            input_masks = input_masks.to(device)\n",
        "            targets = targets.to(device)\n",
        "\n",
        "            with torch.no_grad():\n",
        "                if model_args.keep_attention:\n",
        "                    outputs, _ = model(input_ids, input_masks)\n",
        "                else:\n",
        "                    outputs = model(input_ids, input_masks)\n",
        "\n",
        "                loss = criterion(outputs, targets)\n",
        "\n",
        "                _loss = loss.item()\n",
        "                _, preds = torch.max(outputs, 1)\n",
        "                _acc = torch.sum(preds == targets).item() / batch_size\n",
        "\n",
        "                total_loss.append(_loss)\n",
        "                total_acc.append(_acc)\n",
        "\n",
        "        return total_loss, total_acc\n",
        "\n",
        "    best_loss = float(\"inf\")\n",
        "    steps = 0\n",
        "    for epoch in range(1, training_args.n_epochs + 1):\n",
        "        start_time = time.time()\n",
        "\n",
        "        print()\n",
        "        print(\"Training ...\")\n",
        "        train_loss, train_acc, steps = train(epoch, steps=steps)\n",
        "\n",
        "        print()\n",
        "        print(\"Evaluating ...\")\n",
        "        valid_loss, valid_acc = evaluate()\n",
        "\n",
        "        train_loss = np.mean(train_loss)\n",
        "        valid_loss = np.mean(valid_loss)\n",
        "\n",
        "        train_acc = np.mean(train_acc)\n",
        "        valid_acc = np.mean(valid_acc)\n",
        "\n",
        "        print()\n",
        "        print('-' * 90)\n",
        "        print(\n",
        "            f\"epoch {epoch:3d} | \"\n",
        "            f\"time {time.time() - start_time:5.2f} | \"\n",
        "            f\"(train) loss {train_loss:.4f} | (train) acc {train_acc * 100:.1f} | \"\n",
        "            f\"(valid) loss {valid_loss:.4f} | (valid) acc {valid_acc * 100:.1f} | \"\n",
        "        )\n",
        "        print('-' * 90)\n",
        "        print()\n",
        "\n",
        "        if valid_loss < best_loss:\n",
        "            best_loss = valid_loss\n",
        "\n",
        "            checkpoint_dir = training_args.checkpoint_dir\n",
        "            checkpoint_path = os.path.join(checkpoint_dir, f\"checkpoint-{steps}\")\n",
        "            os.makedirs(checkpoint_path, exist_ok=True)\n",
        "\n",
        "            checkpoints = glob.glob(os.path.join(checkpoint_dir, \"checkpoint-*\"))\n",
        "            checkpoints = sorted(checkpoints, key=lambda n: int(n.split(\"-\")[-1]))\n",
        "            if len(checkpoints) >= training_args.n_checkpoints:\n",
        "                shutil.rmtree(checkpoints[0])\n",
        "\n",
        "            print(f\"Saving checkpoing {checkpoint_path}\")\n",
        "            model.save(checkpoint_path)"
      ],
      "execution_count": 13,
      "outputs": []
    },
    {
      "cell_type": "code",
      "metadata": {
        "id": "ZyR314I6D5cw"
      },
      "source": [
        "import dataclasses\n",
        "from dataclasses import dataclass\n",
        "from typing import Dict, Any\n",
        "from enum import Enum\n",
        "\n",
        "import torch\n",
        "from torch import nn as nn\n",
        "\n",
        "import json\n",
        "\n",
        "\n",
        "\n",
        "@dataclass\n",
        "class BaseArguments:\n",
        "    def to_dict(self):\n",
        "        \"\"\" Serializes this instance \"\"\"\n",
        "        d = dataclasses.asdict(self)\n",
        "        for k, v in d.items():\n",
        "            if isinstance(v, Enum):\n",
        "                d[k] = v.value\n",
        "        return d\n",
        "\n",
        "    def to_sanitized_dict(self) -> Dict[str, Any]:\n",
        "        \"\"\" Sanitized serialization \"\"\"\n",
        "        d = self.to_dict()\n",
        "\n",
        "        valid_types = [bool, int, float, str]\n",
        "        valid_types.append(torch.Tensor)\n",
        "\n",
        "        return {k: v if type(v) in valid_types else str(v) for k, v in d.items()}\n",
        "\n",
        "    def to_json(self, indent=2):\n",
        "        \"\"\" Jsonifies this instance \"\"\"\n",
        "        return json.dumps(self.to_dict(), indent=indent)\n",
        "\n",
        "\n",
        "@dataclass\n",
        "class DataTrainingArguments(BaseArguments):\n",
        "    train_file: str = \"./data/train.json\"\n",
        "    valid_file: str = \"./data/valid.json\"\n",
        "    tokenizer_file: str = \"./config/tokenizer.json\"\n",
        "    x_label: str = \"text\"\n",
        "    y_label: str = \"lang_id\"\n",
        "    pad_token: str = \"<pad>\"\n",
        "    enable_padding: bool = True\n",
        "    max_seq_len: int = 512\n",
        "    train_batch_size: int = 16\n",
        "    train_shuffle: bool = True\n",
        "    valid_batch_size: int = 16\n",
        "    valid_shuffle: bool = False\n",
        "    max_data: int = 0\n",
        "\n",
        "\n",
        "@dataclass\n",
        "class ModelArguments(BaseArguments):\n",
        "    d_model: int = 512\n",
        "    heads: int = 8\n",
        "    ff_d_ff: int = 1024\n",
        "    n_position: int = 5000\n",
        "    n_layers: int = 3\n",
        "    n_classes: int = 235\n",
        "    ff_activation = nn.ReLU()\n",
        "    ff_bias1: bool = True\n",
        "    ff_bias2: bool = True\n",
        "    dropout_rate: float = 0.1\n",
        "    scale_wte: bool = True\n",
        "    keep_attention: bool = False\n",
        "\n",
        "\n",
        "@dataclass\n",
        "class TrainingArguments(BaseArguments):\n",
        "    learning_rate: float = 1e-4\n",
        "    log_interval: int = 2000\n",
        "    n_epochs: int = 5\n",
        "    checkpoint_dir: str = \"./ckpts/\"\n",
        "    n_checkpoints: int = 3"
      ],
      "execution_count": 14,
      "outputs": []
    },
    {
      "cell_type": "code",
      "metadata": {
        "colab": {
          "base_uri": "https://localhost:8080/"
        },
        "id": "gdPdJZnNEFoN",
        "outputId": "bd4aaafd-c104-4b28-cdd7-b338f1ee8e5a"
      },
      "source": [
        "main(DataTrainingArguments(), ModelArguments(), TrainingArguments())"
      ],
      "execution_count": 15,
      "outputs": [
        {
          "output_type": "stream",
          "text": [
            "DataTrainingArguments: \n",
            "{\n",
            "  \"train_file\": \"./data/train.json\",\n",
            "  \"valid_file\": \"./data/valid.json\",\n",
            "  \"tokenizer_file\": \"./config/tokenizer.json\",\n",
            "  \"x_label\": \"text\",\n",
            "  \"y_label\": \"lang_id\",\n",
            "  \"pad_token\": \"<pad>\",\n",
            "  \"enable_padding\": true,\n",
            "  \"max_seq_len\": 512,\n",
            "  \"train_batch_size\": 16,\n",
            "  \"train_shuffle\": true,\n",
            "  \"valid_batch_size\": 16,\n",
            "  \"valid_shuffle\": false,\n",
            "  \"max_data\": 0\n",
            "}\n",
            "ModelArguments: \n",
            "{\n",
            "  \"d_model\": 512,\n",
            "  \"heads\": 8,\n",
            "  \"ff_d_ff\": 1024,\n",
            "  \"n_position\": 5000,\n",
            "  \"n_layers\": 3,\n",
            "  \"n_classes\": 235,\n",
            "  \"ff_bias1\": true,\n",
            "  \"ff_bias2\": true,\n",
            "  \"dropout_rate\": 0.1,\n",
            "  \"scale_wte\": true,\n",
            "  \"keep_attention\": false\n",
            "}\n",
            "TrainingArguments: \n",
            "{\n",
            "  \"learning_rate\": 0.0001,\n",
            "  \"log_interval\": 2000,\n",
            "  \"n_epochs\": 5,\n",
            "  \"checkpoint_dir\": \"./ckpts/\",\n",
            "  \"n_checkpoints\": 3\n",
            "}\n",
            "Creating tokenizer ...\n",
            "Creating dataset ...\n",
            "Train dataset sample:\n",
            "input_texts: Чогаалчы Маадыр-оол Ховалыгның бижип турары чечен чугаалары лириктиг хөөнге кончуг чоок бижиттинген  ...\n",
            "  input_ids: tensor([ 2695,  8677,   482,  6230, 16503,   692,  1074,    52, 19463,  1916,\n",
            "          679,   482,  1817,  5323,   491,  3802,  2967,  3362,  1939,   966,\n",
            "        29152,   966,  7157, 19472,  1035,   960, 17945,  1899,   710, 21186,\n",
            "         3360,  2845,   544,  1501,   966,   318,  1297,   491,  3802,   843,\n",
            "         5382,  4329,   966,  8677, 25522, 18639,    53, 14196, 11698,   480,\n",
            "          798,  9767, 21256,  1670,   491,  3802,   843,  5382,  4329,  1014,\n",
            "         8600,  6362,   594, 13654,  1232,  3570,  1014,   180,   144,   322,\n",
            "          588, 17053,   589,  3570,  1014,  2878,   313, 10643,   422,  1670,\n",
            "        26401,   816,   480,   798,  1018, 13873,  1905,   797, 15716,    52,\n",
            "         9613,   966,  8677,  5265,  1939,   260,  9524,  1817,    53,     1])\n",
            "    targets: 212\n",
            "\n",
            "Validation dataset sample:\n",
            "input_texts: Чогаалчы Маадыр-оол Ховалыгның бижип турары чечен чугаалары лириктиг хөөнге кончуг чоок бижиттинген  ...\n",
            "  input_ids: tensor([ 2695,  8677,   482,  6230, 16503,   692,  1074,    52, 19463,  1916,\n",
            "          679,   482,  1817,  5323,   491,  3802,  2967,  3362,  1939,   966,\n",
            "        29152,   966,  7157, 19472,  1035,   960, 17945,  1899,   710, 21186,\n",
            "         3360,  2845,   544,  1501,   966,   318,  1297,   491,  3802,   843,\n",
            "         5382,  4329,   966,  8677, 25522, 18639,    53, 14196, 11698,   480,\n",
            "          798,  9767, 21256,  1670,   491,  3802,   843,  5382,  4329,  1014,\n",
            "         8600,  6362,   594, 13654,  1232,  3570,  1014,   180,   144,   322,\n",
            "          588, 17053,   589,  3570,  1014,  2878,   313, 10643,   422,  1670,\n",
            "        26401,   816,   480,   798,  1018, 13873,  1905,   797, 15716,    52,\n",
            "         9613,   966,  8677,  5265,  1939,   260,  9524,  1817,    53,     1])\n",
            "    targets: 212\n",
            "\n",
            "Creating dataloader ...\n",
            "Train dataloader shape: torch.Size([16, 512])\n",
            "Validation dataloader shape: torch.Size([16, 512])\n",
            "Creating model ...\n"
          ],
          "name": "stdout"
        },
        {
          "output_type": "stream",
          "text": [
            "\r  0%|          | 0/12887 [00:00<?, ?it/s]"
          ],
          "name": "stderr"
        },
        {
          "output_type": "stream",
          "text": [
            "\n",
            "Model has 21,789,931 parameters\n",
            "\n",
            "\n",
            "Training ...\n"
          ],
          "name": "stdout"
        },
        {
          "output_type": "stream",
          "text": [
            " 16%|█▌        | 2002/12887 [06:05<33:06,  5.48it/s]"
          ],
          "name": "stderr"
        },
        {
          "output_type": "stream",
          "text": [
            "\tepoch   1 |    2000/  12887 batches | lr 0.0001000 | ms/batch 365.69 | loss 3.1850 | acc 33.1 | \n"
          ],
          "name": "stdout"
        },
        {
          "output_type": "stream",
          "text": [
            " 31%|███       | 4002/12887 [12:11<27:08,  5.45it/s]"
          ],
          "name": "stderr"
        },
        {
          "output_type": "stream",
          "text": [
            "\tepoch   1 |    4000/  12887 batches | lr 0.0001000 | ms/batch 365.44 | loss 1.5700 | acc 61.3 | \n"
          ],
          "name": "stdout"
        },
        {
          "output_type": "stream",
          "text": [
            " 47%|████▋     | 6002/12887 [18:15<20:39,  5.55it/s]"
          ],
          "name": "stderr"
        },
        {
          "output_type": "stream",
          "text": [
            "\tepoch   1 |    6000/  12887 batches | lr 0.0001000 | ms/batch 363.96 | loss 1.1007 | acc 71.9 | \n"
          ],
          "name": "stdout"
        },
        {
          "output_type": "stream",
          "text": [
            " 62%|██████▏   | 8002/12887 [24:17<14:42,  5.54it/s]"
          ],
          "name": "stderr"
        },
        {
          "output_type": "stream",
          "text": [
            "\tepoch   1 |    8000/  12887 batches | lr 0.0001000 | ms/batch 362.47 | loss 0.9256 | acc 76.0 | \n"
          ],
          "name": "stdout"
        },
        {
          "output_type": "stream",
          "text": [
            " 78%|███████▊  | 10002/12887 [30:18<08:39,  5.55it/s]"
          ],
          "name": "stderr"
        },
        {
          "output_type": "stream",
          "text": [
            "\tepoch   1 |   10000/  12887 batches | lr 0.0001000 | ms/batch 361.22 | loss 0.8544 | acc 77.5 | \n"
          ],
          "name": "stdout"
        },
        {
          "output_type": "stream",
          "text": [
            " 93%|█████████▎| 12002/12887 [36:20<02:39,  5.54it/s]"
          ],
          "name": "stderr"
        },
        {
          "output_type": "stream",
          "text": [
            "\tepoch   1 |   12000/  12887 batches | lr 0.0001000 | ms/batch 361.09 | loss 0.7870 | acc 79.2 | \n"
          ],
          "name": "stdout"
        },
        {
          "output_type": "stream",
          "text": [
            "100%|██████████| 12887/12887 [39:00<00:00,  5.51it/s]\n",
            "  0%|          | 2/1432 [00:00<01:20, 17.84it/s]"
          ],
          "name": "stderr"
        },
        {
          "output_type": "stream",
          "text": [
            "\n",
            "Evaluating ...\n"
          ],
          "name": "stdout"
        },
        {
          "output_type": "stream",
          "text": [
            "100%|██████████| 1432/1432 [01:25<00:00, 16.78it/s]\n"
          ],
          "name": "stderr"
        },
        {
          "output_type": "stream",
          "text": [
            "\n",
            "------------------------------------------------------------------------------------------\n",
            "epoch   1 | time 2425.53 | (train) loss 1.3578 | (train) acc 67.5 | (valid) loss 0.7142 | (valid) acc 80.8 | \n",
            "------------------------------------------------------------------------------------------\n",
            "\n",
            "Saving checkpoing ./ckpts/checkpoint-83030941\n"
          ],
          "name": "stdout"
        },
        {
          "output_type": "stream",
          "text": [
            "  0%|          | 1/12887 [00:00<39:32,  5.43it/s]"
          ],
          "name": "stderr"
        },
        {
          "output_type": "stream",
          "text": [
            "\n",
            "Training ...\n"
          ],
          "name": "stdout"
        },
        {
          "output_type": "stream",
          "text": [
            " 16%|█▌        | 2002/12887 [06:00<32:32,  5.57it/s]"
          ],
          "name": "stderr"
        },
        {
          "output_type": "stream",
          "text": [
            "\tepoch   2 |    2000/  12887 batches | lr 0.0000950 | ms/batch 360.13 | loss 0.7060 | acc 81.4 | \n"
          ],
          "name": "stdout"
        },
        {
          "output_type": "stream",
          "text": [
            " 31%|███       | 4002/12887 [12:00<26:31,  5.58it/s]"
          ],
          "name": "stderr"
        },
        {
          "output_type": "stream",
          "text": [
            "\tepoch   2 |    4000/  12887 batches | lr 0.0000950 | ms/batch 359.71 | loss 0.6576 | acc 82.3 | \n"
          ],
          "name": "stdout"
        },
        {
          "output_type": "stream",
          "text": [
            " 47%|████▋     | 6002/12887 [17:59<20:37,  5.56it/s]"
          ],
          "name": "stderr"
        },
        {
          "output_type": "stream",
          "text": [
            "\tepoch   2 |    6000/  12887 batches | lr 0.0000950 | ms/batch 359.28 | loss 0.6490 | acc 82.7 | \n"
          ],
          "name": "stdout"
        },
        {
          "output_type": "stream",
          "text": [
            " 62%|██████▏   | 8002/12887 [23:59<14:38,  5.56it/s]"
          ],
          "name": "stderr"
        },
        {
          "output_type": "stream",
          "text": [
            "\tepoch   2 |    8000/  12887 batches | lr 0.0000950 | ms/batch 359.75 | loss 0.6364 | acc 83.1 | \n"
          ],
          "name": "stdout"
        },
        {
          "output_type": "stream",
          "text": [
            " 78%|███████▊  | 10002/12887 [29:58<08:38,  5.57it/s]"
          ],
          "name": "stderr"
        },
        {
          "output_type": "stream",
          "text": [
            "\tepoch   2 |   10000/  12887 batches | lr 0.0000950 | ms/batch 359.25 | loss 0.6103 | acc 83.7 | \n"
          ],
          "name": "stdout"
        },
        {
          "output_type": "stream",
          "text": [
            " 93%|█████████▎| 12002/12887 [35:57<02:38,  5.58it/s]"
          ],
          "name": "stderr"
        },
        {
          "output_type": "stream",
          "text": [
            "\tepoch   2 |   12000/  12887 batches | lr 0.0000950 | ms/batch 359.08 | loss 0.6235 | acc 83.7 | \n"
          ],
          "name": "stdout"
        },
        {
          "output_type": "stream",
          "text": [
            "100%|██████████| 12887/12887 [38:36<00:00,  5.56it/s]\n",
            "  0%|          | 2/1432 [00:00<01:19, 17.93it/s]"
          ],
          "name": "stderr"
        },
        {
          "output_type": "stream",
          "text": [
            "\n",
            "Evaluating ...\n"
          ],
          "name": "stdout"
        },
        {
          "output_type": "stream",
          "text": [
            "100%|██████████| 1432/1432 [01:24<00:00, 16.89it/s]\n"
          ],
          "name": "stderr"
        },
        {
          "output_type": "stream",
          "text": [
            "\n",
            "------------------------------------------------------------------------------------------\n",
            "epoch   2 | time 2401.13 | (train) loss 0.6446 | (train) acc 82.9 | (valid) loss 0.5903 | (valid) acc 84.0 | \n",
            "------------------------------------------------------------------------------------------\n",
            "\n",
            "Saving checkpoing ./ckpts/checkpoint-166061882\n"
          ],
          "name": "stdout"
        },
        {
          "output_type": "stream",
          "text": [
            "  0%|          | 1/12887 [00:00<39:49,  5.39it/s]"
          ],
          "name": "stderr"
        },
        {
          "output_type": "stream",
          "text": [
            "\n",
            "Training ...\n"
          ],
          "name": "stdout"
        },
        {
          "output_type": "stream",
          "text": [
            " 16%|█▌        | 2002/12887 [05:58<32:18,  5.62it/s]"
          ],
          "name": "stderr"
        },
        {
          "output_type": "stream",
          "text": [
            "\tepoch   3 |    2000/  12887 batches | lr 0.0000902 | ms/batch 358.51 | loss 0.5641 | acc 85.0 | \n"
          ],
          "name": "stdout"
        },
        {
          "output_type": "stream",
          "text": [
            " 31%|███       | 4002/12887 [11:56<26:34,  5.57it/s]"
          ],
          "name": "stderr"
        },
        {
          "output_type": "stream",
          "text": [
            "\tepoch   3 |    4000/  12887 batches | lr 0.0000902 | ms/batch 358.02 | loss 0.5581 | acc 85.0 | \n"
          ],
          "name": "stdout"
        },
        {
          "output_type": "stream",
          "text": [
            " 47%|████▋     | 6002/12887 [17:54<20:30,  5.60it/s]"
          ],
          "name": "stderr"
        },
        {
          "output_type": "stream",
          "text": [
            "\tepoch   3 |    6000/  12887 batches | lr 0.0000902 | ms/batch 357.98 | loss 0.5543 | acc 85.2 | \n"
          ],
          "name": "stdout"
        },
        {
          "output_type": "stream",
          "text": [
            " 62%|██████▏   | 8002/12887 [23:52<14:31,  5.61it/s]"
          ],
          "name": "stderr"
        },
        {
          "output_type": "stream",
          "text": [
            "\tepoch   3 |    8000/  12887 batches | lr 0.0000902 | ms/batch 357.62 | loss 0.5660 | acc 84.9 | \n"
          ],
          "name": "stdout"
        },
        {
          "output_type": "stream",
          "text": [
            " 78%|███████▊  | 10002/12887 [29:48<08:38,  5.57it/s]"
          ],
          "name": "stderr"
        },
        {
          "output_type": "stream",
          "text": [
            "\tepoch   3 |   10000/  12887 batches | lr 0.0000902 | ms/batch 356.68 | loss 0.5764 | acc 84.7 | \n"
          ],
          "name": "stdout"
        },
        {
          "output_type": "stream",
          "text": [
            " 93%|█████████▎| 12002/12887 [35:44<02:37,  5.61it/s]"
          ],
          "name": "stderr"
        },
        {
          "output_type": "stream",
          "text": [
            "\tepoch   3 |   12000/  12887 batches | lr 0.0000902 | ms/batch 355.80 | loss 0.5566 | acc 85.1 | \n"
          ],
          "name": "stdout"
        },
        {
          "output_type": "stream",
          "text": [
            "100%|██████████| 12887/12887 [38:22<00:00,  5.60it/s]\n",
            "  0%|          | 2/1432 [00:00<01:20, 17.86it/s]"
          ],
          "name": "stderr"
        },
        {
          "output_type": "stream",
          "text": [
            "\n",
            "Evaluating ...\n"
          ],
          "name": "stdout"
        },
        {
          "output_type": "stream",
          "text": [
            "100%|██████████| 1432/1432 [01:24<00:00, 17.04it/s]\n"
          ],
          "name": "stderr"
        },
        {
          "output_type": "stream",
          "text": [
            "\n",
            "------------------------------------------------------------------------------------------\n",
            "epoch   3 | time 2386.26 | (train) loss 0.5630 | (train) acc 84.9 | (valid) loss 0.5570 | (valid) acc 85.4 | \n",
            "------------------------------------------------------------------------------------------\n",
            "\n",
            "Saving checkpoing ./ckpts/checkpoint-249092823\n"
          ],
          "name": "stdout"
        },
        {
          "output_type": "stream",
          "text": [
            "  0%|          | 1/12887 [00:00<39:09,  5.48it/s]"
          ],
          "name": "stderr"
        },
        {
          "output_type": "stream",
          "text": [
            "\n",
            "Training ...\n"
          ],
          "name": "stdout"
        },
        {
          "output_type": "stream",
          "text": [
            " 16%|█▌        | 2002/12887 [05:55<32:09,  5.64it/s]"
          ],
          "name": "stderr"
        },
        {
          "output_type": "stream",
          "text": [
            "\tepoch   4 |    2000/  12887 batches | lr 0.0000857 | ms/batch 355.25 | loss 0.5367 | acc 85.7 | \n"
          ],
          "name": "stdout"
        },
        {
          "output_type": "stream",
          "text": [
            " 31%|███       | 4002/12887 [11:49<26:20,  5.62it/s]"
          ],
          "name": "stderr"
        },
        {
          "output_type": "stream",
          "text": [
            "\tepoch   4 |    4000/  12887 batches | lr 0.0000857 | ms/batch 354.40 | loss 0.5389 | acc 85.5 | \n"
          ],
          "name": "stdout"
        },
        {
          "output_type": "stream",
          "text": [
            " 47%|████▋     | 6002/12887 [17:44<20:13,  5.67it/s]"
          ],
          "name": "stderr"
        },
        {
          "output_type": "stream",
          "text": [
            "\tepoch   4 |    6000/  12887 batches | lr 0.0000857 | ms/batch 354.87 | loss 0.5353 | acc 85.5 | \n"
          ],
          "name": "stdout"
        },
        {
          "output_type": "stream",
          "text": [
            " 62%|██████▏   | 8002/12887 [23:38<14:26,  5.64it/s]"
          ],
          "name": "stderr"
        },
        {
          "output_type": "stream",
          "text": [
            "\tepoch   4 |    8000/  12887 batches | lr 0.0000857 | ms/batch 353.78 | loss 0.5447 | acc 85.6 | \n"
          ],
          "name": "stdout"
        },
        {
          "output_type": "stream",
          "text": [
            " 78%|███████▊  | 10002/12887 [29:32<08:31,  5.64it/s]"
          ],
          "name": "stderr"
        },
        {
          "output_type": "stream",
          "text": [
            "\tepoch   4 |   10000/  12887 batches | lr 0.0000857 | ms/batch 354.29 | loss 0.5512 | acc 85.1 | \n"
          ],
          "name": "stdout"
        },
        {
          "output_type": "stream",
          "text": [
            " 93%|█████████▎| 12002/12887 [35:26<02:36,  5.65it/s]"
          ],
          "name": "stderr"
        },
        {
          "output_type": "stream",
          "text": [
            "\tepoch   4 |   12000/  12887 batches | lr 0.0000857 | ms/batch 353.92 | loss 0.5346 | acc 85.7 | \n"
          ],
          "name": "stdout"
        },
        {
          "output_type": "stream",
          "text": [
            "100%|██████████| 12887/12887 [38:03<00:00,  5.64it/s]\n",
            "  0%|          | 2/1432 [00:00<01:21, 17.56it/s]"
          ],
          "name": "stderr"
        },
        {
          "output_type": "stream",
          "text": [
            "\n",
            "Evaluating ...\n"
          ],
          "name": "stdout"
        },
        {
          "output_type": "stream",
          "text": [
            "100%|██████████| 1432/1432 [01:24<00:00, 17.01it/s]\n",
            "  0%|          | 1/12887 [00:00<38:49,  5.53it/s]"
          ],
          "name": "stderr"
        },
        {
          "output_type": "stream",
          "text": [
            "\n",
            "------------------------------------------------------------------------------------------\n",
            "epoch   4 | time 2367.51 | (train) loss 0.5389 | (train) acc 85.5 | (valid) loss 0.5628 | (valid) acc 84.9 | \n",
            "------------------------------------------------------------------------------------------\n",
            "\n",
            "\n",
            "Training ...\n"
          ],
          "name": "stdout"
        },
        {
          "output_type": "stream",
          "text": [
            " 16%|█▌        | 2002/12887 [05:54<31:58,  5.67it/s]"
          ],
          "name": "stderr"
        },
        {
          "output_type": "stream",
          "text": [
            "\tepoch   5 |    2000/  12887 batches | lr 0.0000815 | ms/batch 354.82 | loss 0.5132 | acc 86.3 | \n"
          ],
          "name": "stdout"
        },
        {
          "output_type": "stream",
          "text": [
            " 31%|███       | 4002/12887 [11:50<26:16,  5.64it/s]"
          ],
          "name": "stderr"
        },
        {
          "output_type": "stream",
          "text": [
            "\tepoch   5 |    4000/  12887 batches | lr 0.0000815 | ms/batch 355.37 | loss 0.5151 | acc 86.0 | \n"
          ],
          "name": "stdout"
        },
        {
          "output_type": "stream",
          "text": [
            " 47%|████▋     | 6002/12887 [17:44<20:16,  5.66it/s]"
          ],
          "name": "stderr"
        },
        {
          "output_type": "stream",
          "text": [
            "\tepoch   5 |    6000/  12887 batches | lr 0.0000815 | ms/batch 354.56 | loss 0.4971 | acc 86.6 | \n"
          ],
          "name": "stdout"
        },
        {
          "output_type": "stream",
          "text": [
            " 62%|██████▏   | 8002/12887 [23:39<14:21,  5.67it/s]"
          ],
          "name": "stderr"
        },
        {
          "output_type": "stream",
          "text": [
            "\tepoch   5 |    8000/  12887 batches | lr 0.0000815 | ms/batch 354.21 | loss 0.5083 | acc 86.1 | \n"
          ],
          "name": "stdout"
        },
        {
          "output_type": "stream",
          "text": [
            " 78%|███████▊  | 10002/12887 [29:33<08:28,  5.67it/s]"
          ],
          "name": "stderr"
        },
        {
          "output_type": "stream",
          "text": [
            "\tepoch   5 |   10000/  12887 batches | lr 0.0000815 | ms/batch 354.50 | loss 0.5151 | acc 86.2 | \n"
          ],
          "name": "stdout"
        },
        {
          "output_type": "stream",
          "text": [
            " 93%|█████████▎| 12002/12887 [35:27<02:36,  5.67it/s]"
          ],
          "name": "stderr"
        },
        {
          "output_type": "stream",
          "text": [
            "\tepoch   5 |   12000/  12887 batches | lr 0.0000815 | ms/batch 354.20 | loss 0.5000 | acc 86.5 | \n"
          ],
          "name": "stdout"
        },
        {
          "output_type": "stream",
          "text": [
            "100%|██████████| 12887/12887 [38:04<00:00,  5.64it/s]\n",
            "  0%|          | 2/1432 [00:00<01:20, 17.83it/s]"
          ],
          "name": "stderr"
        },
        {
          "output_type": "stream",
          "text": [
            "\n",
            "Evaluating ...\n"
          ],
          "name": "stdout"
        },
        {
          "output_type": "stream",
          "text": [
            "100%|██████████| 1432/1432 [01:23<00:00, 17.08it/s]\n"
          ],
          "name": "stderr"
        },
        {
          "output_type": "stream",
          "text": [
            "\n",
            "------------------------------------------------------------------------------------------\n",
            "epoch   5 | time 2368.09 | (train) loss 0.5086 | (train) acc 86.2 | (valid) loss 0.5173 | (valid) acc 86.5 | \n",
            "------------------------------------------------------------------------------------------\n",
            "\n",
            "Saving checkpoing ./ckpts/checkpoint-415154705\n"
          ],
          "name": "stdout"
        }
      ]
    },
    {
      "cell_type": "markdown",
      "metadata": {
        "id": "OlPiWhWi8tW4"
      },
      "source": [
        "# Evaluation / Prediction"
      ]
    },
    {
      "cell_type": "code",
      "metadata": {
        "id": "EMepViWDucpm"
      },
      "source": [
        "last_checkpoint = \"./ckpts/checkpoint-415154705\"\n",
        "\n",
        "trained_model = TransformerLangDetection.load(last_checkpoint)"
      ],
      "execution_count": 19,
      "outputs": []
    },
    {
      "cell_type": "code",
      "metadata": {
        "colab": {
          "base_uri": "https://localhost:8080/",
          "height": 215
        },
        "id": "c8gxuxir4Szl",
        "outputId": "1ebfd131-05a2-4cd9-9d17-09f09442e06d"
      },
      "source": [
        "test = pd.read_json(\"./data/test.json\")\n",
        "test = test.reset_index(drop=True)\n",
        "print(f\"Test has {len(test)} records\")\n",
        "test.head()"
      ],
      "execution_count": 20,
      "outputs": [
        {
          "output_type": "stream",
          "text": [
            "Test has 45819 records\n"
          ],
          "name": "stdout"
        },
        {
          "output_type": "execute_result",
          "data": {
            "text/html": [
              "<div>\n",
              "<style scoped>\n",
              "    .dataframe tbody tr th:only-of-type {\n",
              "        vertical-align: middle;\n",
              "    }\n",
              "\n",
              "    .dataframe tbody tr th {\n",
              "        vertical-align: top;\n",
              "    }\n",
              "\n",
              "    .dataframe thead th {\n",
              "        text-align: right;\n",
              "    }\n",
              "</style>\n",
              "<table border=\"1\" class=\"dataframe\">\n",
              "  <thead>\n",
              "    <tr style=\"text-align: right;\">\n",
              "      <th></th>\n",
              "      <th>text</th>\n",
              "      <th>lang</th>\n",
              "      <th>lang_id</th>\n",
              "      <th>tokens</th>\n",
              "    </tr>\n",
              "  </thead>\n",
              "  <tbody>\n",
              "    <tr>\n",
              "      <th>0</th>\n",
              "      <td>საველე სამუშაოებია: საყრდენი ქსელის შექმნა და ...</td>\n",
              "      <td>kat</td>\n",
              "      <td>96</td>\n",
              "      <td>95</td>\n",
              "    </tr>\n",
              "    <tr>\n",
              "      <th>1</th>\n",
              "      <td>A digh donca che ai temp dal prim re 'd Zepri,...</td>\n",
              "      <td>egl</td>\n",
              "      <td>48</td>\n",
              "      <td>508</td>\n",
              "    </tr>\n",
              "    <tr>\n",
              "      <th>2</th>\n",
              "      <td>স্পাইৰিলাম (Spirillum) : এইবিলাক বেক্টেৰিয়া দ...</td>\n",
              "      <td>asm</td>\n",
              "      <td>8</td>\n",
              "      <td>138</td>\n",
              "    </tr>\n",
              "    <tr>\n",
              "      <th>3</th>\n",
              "      <td>S'òmine chi abaidaiat colende sos trenos est u...</td>\n",
              "      <td>srd</td>\n",
              "      <td>192</td>\n",
              "      <td>88</td>\n",
              "    </tr>\n",
              "    <tr>\n",
              "      <th>4</th>\n",
              "      <td>Bongzilla é uma banda de Stoner Rock/Sludge do...</td>\n",
              "      <td>por</td>\n",
              "      <td>169</td>\n",
              "      <td>79</td>\n",
              "    </tr>\n",
              "  </tbody>\n",
              "</table>\n",
              "</div>"
            ],
            "text/plain": [
              "                                                text lang  lang_id  tokens\n",
              "0  საველე სამუშაოებია: საყრდენი ქსელის შექმნა და ...  kat       96      95\n",
              "1  A digh donca che ai temp dal prim re 'd Zepri,...  egl       48     508\n",
              "2  স্পাইৰিলাম (Spirillum) : এইবিলাক বেক্টেৰিয়া দ...  asm        8     138\n",
              "3  S'òmine chi abaidaiat colende sos trenos est u...  srd      192      88\n",
              "4  Bongzilla é uma banda de Stoner Rock/Sludge do...  por      169      79"
            ]
          },
          "metadata": {
            "tags": []
          },
          "execution_count": 20
        }
      ]
    },
    {
      "cell_type": "code",
      "metadata": {
        "id": "Bdq4ii5iDM1-"
      },
      "source": [
        "lang_names = {}\n",
        "for i, lang in enumerate(languages):\n",
        "    try:\n",
        "        lang_names[i] = labels[labels[\"Label\"] == lang][\"English\"].values[0]\n",
        "    except:\n",
        "        print(lang, i)"
      ],
      "execution_count": 21,
      "outputs": []
    },
    {
      "cell_type": "code",
      "metadata": {
        "colab": {
          "base_uri": "https://localhost:8080/"
        },
        "id": "kiDoedDWD2MC",
        "outputId": "26393423-69dc-4eb9-da66-8bb1441a0fd6"
      },
      "source": [
        "lang_names"
      ],
      "execution_count": 22,
      "outputs": [
        {
          "output_type": "execute_result",
          "data": {
            "text/plain": [
              "{0: 'Achinese',\n",
              " 1: 'Afrikaans',\n",
              " 2: 'Alemannic German',\n",
              " 3: 'Amharic',\n",
              " 4: 'Old English ',\n",
              " 5: 'Arabic',\n",
              " 6: 'Aragonese',\n",
              " 7: 'Egyptian Arabic',\n",
              " 8: 'Assamese',\n",
              " 9: 'Asturian',\n",
              " 10: 'Avar',\n",
              " 11: 'Aymara',\n",
              " 12: 'South Azerbaijani',\n",
              " 13: 'Azerbaijani',\n",
              " 14: 'Bashkir',\n",
              " 15: 'Bavarian',\n",
              " 16: 'Central Bikol',\n",
              " 17: 'Belarusian (Taraschkewiza)',\n",
              " 18: 'Belarusian',\n",
              " 19: 'Bengali',\n",
              " 20: 'Bhojpuri',\n",
              " 21: 'Banjar',\n",
              " 22: 'Tibetan',\n",
              " 23: 'Bosnian',\n",
              " 24: 'Bishnupriya',\n",
              " 25: 'Breton',\n",
              " 26: 'Bulgarian',\n",
              " 27: 'Buryat',\n",
              " 28: 'Catalan',\n",
              " 29: 'Chavacano',\n",
              " 30: 'Min Dong',\n",
              " 31: 'Cebuano',\n",
              " 32: 'Czech',\n",
              " 33: 'Chechen',\n",
              " 34: 'Cherokee',\n",
              " 35: 'Chuvash',\n",
              " 36: 'Central Kurdish',\n",
              " 37: 'Cornish',\n",
              " 38: 'Corsican',\n",
              " 39: 'Crimean Tatar',\n",
              " 40: 'Kashubian',\n",
              " 41: 'Welsh',\n",
              " 42: 'Danish',\n",
              " 43: 'German',\n",
              " 44: 'Dimli',\n",
              " 45: 'Dhivehi',\n",
              " 46: 'Lower Sorbian',\n",
              " 47: 'Doteli',\n",
              " 48: 'Emilian',\n",
              " 49: 'Modern Greek',\n",
              " 50: 'English',\n",
              " 51: 'Esperanto',\n",
              " 52: 'Estonian',\n",
              " 53: 'Basque',\n",
              " 54: 'Extremaduran',\n",
              " 55: 'Faroese',\n",
              " 56: 'Persian',\n",
              " 57: 'Finnish',\n",
              " 58: 'French',\n",
              " 59: 'Arpitan',\n",
              " 60: 'Western Frisian',\n",
              " 61: 'Friulian',\n",
              " 62: 'Gagauz',\n",
              " 63: 'Scottish Gaelic',\n",
              " 64: 'Irish',\n",
              " 65: 'Galician',\n",
              " 66: 'Gilaki',\n",
              " 67: 'Manx',\n",
              " 68: 'Guarani',\n",
              " 69: 'Gujarati',\n",
              " 70: 'Hakka Chinese',\n",
              " 71: 'Haitian Creole',\n",
              " 72: 'Hausa',\n",
              " 73: 'Serbo-Croatian',\n",
              " 74: 'Hebrew',\n",
              " 75: 'Fiji Hindi',\n",
              " 76: 'Hindi',\n",
              " 77: 'Croatian',\n",
              " 78: 'Upper Sorbian',\n",
              " 79: 'Hungarian',\n",
              " 80: 'Armenian',\n",
              " 81: 'Igbo',\n",
              " 82: 'Ido',\n",
              " 83: 'Interlingue',\n",
              " 84: 'Iloko',\n",
              " 85: 'Interlingua',\n",
              " 86: 'Indonesian',\n",
              " 87: 'Icelandic',\n",
              " 88: 'Italian',\n",
              " 89: 'Jamaican Patois',\n",
              " 90: 'Javanese',\n",
              " 91: 'Lojban',\n",
              " 92: 'Japanese',\n",
              " 93: 'Karakalpak',\n",
              " 94: 'Kabyle',\n",
              " 95: 'Kannada',\n",
              " 96: 'Georgian',\n",
              " 97: 'Kazakh',\n",
              " 98: 'Kabardian',\n",
              " 99: 'Central Khmer',\n",
              " 100: 'Kinyarwanda',\n",
              " 101: 'Kirghiz',\n",
              " 102: 'Komi-Permyak',\n",
              " 103: 'Konkani',\n",
              " 104: 'Komi',\n",
              " 105: 'Korean',\n",
              " 106: 'Karachay-Balkar',\n",
              " 107: 'Ripuarisch',\n",
              " 108: 'Kurdish',\n",
              " 109: 'Ladino',\n",
              " 110: 'Lao',\n",
              " 111: 'Latin',\n",
              " 112: 'Latvian',\n",
              " 113: 'Lezghian',\n",
              " 114: 'Ligurian',\n",
              " 115: 'Limburgan',\n",
              " 116: 'Lingala',\n",
              " 117: 'Lithuanian',\n",
              " 118: 'Lombard',\n",
              " 119: 'Northern Luri',\n",
              " 120: 'Latgalian',\n",
              " 121: 'Luxembourgish',\n",
              " 122: 'Luganda',\n",
              " 123: 'Literary Chinese',\n",
              " 124: 'Maithili',\n",
              " 125: 'Malayalam',\n",
              " 126: 'Banyumasan',\n",
              " 127: 'Marathi',\n",
              " 128: 'Moksha',\n",
              " 129: 'Eastern Mari',\n",
              " 130: 'Minangkabau',\n",
              " 131: 'Macedonian',\n",
              " 132: 'Malagasy',\n",
              " 133: 'Maltese',\n",
              " 134: 'Mongolian',\n",
              " 135: 'Maori',\n",
              " 136: 'Western Mari',\n",
              " 137: 'Malay',\n",
              " 138: 'Mirandese',\n",
              " 139: 'Burmese',\n",
              " 140: 'Erzya',\n",
              " 141: 'Mazanderani',\n",
              " 142: 'Min Nan Chinese',\n",
              " 143: 'Neapolitan',\n",
              " 144: 'Navajo',\n",
              " 145: 'Classical Nahuatl',\n",
              " 146: 'Low German',\n",
              " 147: 'West Low German',\n",
              " 148: 'Nepali (macrolanguage)',\n",
              " 149: 'Newari',\n",
              " 150: 'Dutch',\n",
              " 151: 'Norwegian Nynorsk',\n",
              " 152: 'Bokmål',\n",
              " 153: 'Narom',\n",
              " 154: 'Northern Sotho',\n",
              " 155: 'Occitan',\n",
              " 156: 'Livvi-Karelian',\n",
              " 157: 'Oriya',\n",
              " 158: 'Oromo',\n",
              " 159: 'Ossetian',\n",
              " 160: 'Pangasinan',\n",
              " 161: 'Pampanga',\n",
              " 162: 'Panjabi',\n",
              " 163: 'Papiamento',\n",
              " 164: 'Picard',\n",
              " 165: 'Pennsylvania German',\n",
              " 166: 'Palatine German',\n",
              " 167: 'Western Panjabi',\n",
              " 168: 'Polish',\n",
              " 169: 'Portuguese',\n",
              " 170: 'Pushto',\n",
              " 171: 'Quechua',\n",
              " 172: 'Tarantino dialect',\n",
              " 173: 'Romansh',\n",
              " 174: 'Romanian',\n",
              " 175: 'Rusyn',\n",
              " 176: 'Aromanian',\n",
              " 177: 'Russian',\n",
              " 178: 'Yakut',\n",
              " 179: 'Sanskrit',\n",
              " 180: 'Sicilian',\n",
              " 181: 'Scots',\n",
              " 182: 'Samogitian',\n",
              " 183: 'Sinhala',\n",
              " 184: 'Slovak',\n",
              " 185: 'Slovene',\n",
              " 186: 'Northern Sami',\n",
              " 187: 'Shona',\n",
              " 188: 'Sindhi',\n",
              " 189: 'Somali',\n",
              " 190: 'Spanish',\n",
              " 191: 'Albanian',\n",
              " 192: 'Sardinian',\n",
              " 193: 'Sranan',\n",
              " 194: 'Serbian',\n",
              " 195: 'Saterfriesisch',\n",
              " 196: 'Sundanese',\n",
              " 197: 'Swahili (macrolanguage)',\n",
              " 198: 'Swedish',\n",
              " 199: 'Silesian',\n",
              " 200: 'Tamil',\n",
              " 201: 'Tatar',\n",
              " 202: 'Tulu',\n",
              " 203: 'Telugu',\n",
              " 204: 'Tetum',\n",
              " 205: 'Tajik',\n",
              " 206: 'Tagalog',\n",
              " 207: 'Thai',\n",
              " 208: 'Tongan',\n",
              " 209: 'Tswana',\n",
              " 210: 'Turkmen',\n",
              " 211: 'Turkish',\n",
              " 212: 'Tuvan',\n",
              " 213: 'Udmurt',\n",
              " 214: 'Uighur',\n",
              " 215: 'Ukrainian',\n",
              " 216: 'Urdu',\n",
              " 217: 'Uzbek',\n",
              " 218: 'Venetian',\n",
              " 219: 'Veps',\n",
              " 220: 'Vietnamese',\n",
              " 221: 'Vlaams',\n",
              " 222: 'Volapük',\n",
              " 223: 'Võro',\n",
              " 224: 'Waray',\n",
              " 225: 'Walloon',\n",
              " 226: 'Wolof',\n",
              " 227: 'Wu Chinese',\n",
              " 228: 'Xhosa',\n",
              " 229: 'Mingrelian',\n",
              " 230: 'Yiddish',\n",
              " 231: 'Yoruba',\n",
              " 232: 'Zeeuws',\n",
              " 233: 'Cantonese',\n",
              " 234: 'Standard Chinese'}"
            ]
          },
          "metadata": {
            "tags": []
          },
          "execution_count": 22
        }
      ]
    },
    {
      "cell_type": "code",
      "metadata": {
        "colab": {
          "base_uri": "https://localhost:8080/"
        },
        "id": "iXl6f25p3r9D",
        "outputId": "6f8610f8-cd65-4967-f7aa-4b4b6e3e60a6"
      },
      "source": [
        "texts = test[\"text\"].values.tolist()\n",
        "y_trues = test[\"lang_id\"].values\n",
        "\n",
        "tokenizer = TransformerLangDetection.load_tokenizer(\"./config/tokenizer.json\")\n",
        "top1, topk = trained_model.predict(\n",
        "    texts, \n",
        "    tokenizer=tokenizer, \n",
        "    batch_size=64,\n",
        "    label_map=lang_names\n",
        ")"
      ],
      "execution_count": 23,
      "outputs": [
        {
          "output_type": "stream",
          "text": [
            "100%|██████████| 716/716 [02:45<00:00,  4.33it/s]\n"
          ],
          "name": "stderr"
        }
      ]
    },
    {
      "cell_type": "code",
      "metadata": {
        "colab": {
          "base_uri": "https://localhost:8080/"
        },
        "id": "dm7r8YMoCL3l",
        "outputId": "7f1dbab8-2866-4f20-b6ef-57a5dc41f401"
      },
      "source": [
        "y_probs, y_preds, y_names = top1\n",
        "topk_y_probs, topk_y_preds = topk\n",
        "\n",
        "print(y_probs.shape, y_preds.shape, y_trues.shape)\n",
        "print(topk_y_probs.shape, topk_y_probs.shape)"
      ],
      "execution_count": 24,
      "outputs": [
        {
          "output_type": "stream",
          "text": [
            "(45819,) (45819,) (45819,)\n",
            "(45819, 5) (45819, 5)\n"
          ],
          "name": "stdout"
        }
      ]
    },
    {
      "cell_type": "code",
      "metadata": {
        "colab": {
          "base_uri": "https://localhost:8080/"
        },
        "id": "vsu-2Nek7k3Z",
        "outputId": "26142f17-3031-4cb3-b138-41c29af0b0ef"
      },
      "source": [
        "from sklearn.metrics import classification_report\n",
        "\n",
        "target_names = [f\"{lang_names[idx]} ({languages[idx]})\" for idx in np.unique(np.concatenate([y_trues, y_preds], axis=0)) if idx in lang_names]\n",
        "print(len(target_names))\n",
        "\n",
        "report = classification_report(y_trues, y_preds, target_names=target_names)\n",
        "report_dict = classification_report(y_trues, y_preds, target_names=target_names, output_dict=True)\n",
        "print(report)"
      ],
      "execution_count": 140,
      "outputs": [
        {
          "output_type": "stream",
          "text": [
            "235\n",
            "                                        precision    recall  f1-score   support\n",
            "\n",
            "                        Achinese (ace)       0.99      0.91      0.95       200\n",
            "                       Afrikaans (afr)       0.91      0.96      0.93       200\n",
            "                Alemannic German (als)       0.89      0.74      0.81       199\n",
            "                         Amharic (amh)       1.00      0.97      0.98       200\n",
            "                    Old English  (ang)       0.88      0.84      0.86       200\n",
            "                          Arabic (ara)       0.91      0.93      0.92       200\n",
            "                       Aragonese (arg)       0.83      0.90      0.86       200\n",
            "                 Egyptian Arabic (arz)       0.93      0.91      0.92       200\n",
            "                        Assamese (asm)       0.99      0.97      0.98       200\n",
            "                        Asturian (ast)       0.92      0.67      0.78       200\n",
            "                            Avar (ava)       0.65      0.73      0.69       199\n",
            "                          Aymara (aym)       0.94      0.88      0.91       199\n",
            "               South Azerbaijani (azb)       0.99      0.95      0.97       199\n",
            "                     Azerbaijani (aze)       1.00      0.94      0.97       200\n",
            "                         Bashkir (bak)       0.99      0.91      0.95       164\n",
            "                        Bavarian (bar)       0.81      0.80      0.80       200\n",
            "                   Central Bikol (bcl)       0.98      0.92      0.95       200\n",
            "Belarusian (Taraschkewiza) (be-tarask)       0.67      0.75      0.71       200\n",
            "                      Belarusian (bel)       0.71      0.56      0.63       200\n",
            "                         Bengali (ben)       0.88      0.90      0.89       200\n",
            "                        Bhojpuri (bho)       0.78      0.86      0.82       200\n",
            "                          Banjar (bjn)       0.93      0.66      0.77       198\n",
            "                         Tibetan (bod)       1.00      0.99      0.99       200\n",
            "                         Bosnian (bos)       0.36      0.76      0.49       200\n",
            "                     Bishnupriya (bpy)       0.97      0.96      0.97       200\n",
            "                          Breton (bre)       0.97      0.95      0.96       199\n",
            "                       Bulgarian (bul)       0.91      0.92      0.91       200\n",
            "                          Buryat (bxr)       0.92      0.79      0.85       199\n",
            "                         Catalan (cat)       0.76      0.92      0.84       199\n",
            "                       Chavacano (cbk)       0.69      0.40      0.51       200\n",
            "                        Min Dong (cdo)       0.89      0.96      0.93       200\n",
            "                         Cebuano (ceb)       0.95      0.99      0.97       200\n",
            "                           Czech (ces)       0.96      0.92      0.94       200\n",
            "                         Chechen (che)       0.77      0.80      0.78        25\n",
            "                        Cherokee (chr)       1.00      0.95      0.98       198\n",
            "                         Chuvash (chv)       0.98      0.91      0.95       170\n",
            "                 Central Kurdish (ckb)       0.98      0.97      0.98       200\n",
            "                         Cornish (cor)       0.96      0.94      0.95       200\n",
            "                        Corsican (cos)       0.90      0.94      0.92       200\n",
            "                   Crimean Tatar (crh)       0.86      0.93      0.89       199\n",
            "                       Kashubian (csb)       0.93      0.97      0.95       198\n",
            "                           Welsh (cym)       0.96      0.95      0.96       194\n",
            "                          Danish (dan)       0.93      0.82      0.87       200\n",
            "                          German (deu)       0.56      0.91      0.69       200\n",
            "                           Dimli (diq)       0.98      0.89      0.93       200\n",
            "                         Dhivehi (div)       1.00      0.99      0.99       199\n",
            "                   Lower Sorbian (dsb)       0.86      0.86      0.86       199\n",
            "                          Doteli (dty)       0.55      0.67      0.60       200\n",
            "                         Emilian (egl)       0.82      0.89      0.85       200\n",
            "                    Modern Greek (ell)       0.93      0.98      0.96       199\n",
            "                         English (eng)       0.26      0.94      0.40       200\n",
            "                       Esperanto (epo)       0.75      0.94      0.83       200\n",
            "                        Estonian (est)       0.65      0.86      0.74       200\n",
            "                          Basque (eus)       0.91      0.95      0.93       200\n",
            "                    Extremaduran (ext)       0.92      0.71      0.80       200\n",
            "                         Faroese (fao)       0.92      0.95      0.94       198\n",
            "                         Persian (fas)       0.81      0.92      0.86       200\n",
            "                         Finnish (fin)       0.84      0.88      0.86       200\n",
            "                          French (fra)       0.52      0.89      0.65       198\n",
            "                         Arpitan (frp)       0.77      0.78      0.77       199\n",
            "                 Western Frisian (fry)       0.83      0.95      0.89       200\n",
            "                        Friulian (fur)       0.93      0.76      0.83       200\n",
            "                          Gagauz (gag)       0.91      0.79      0.85       197\n",
            "                 Scottish Gaelic (gla)       0.86      0.96      0.91       200\n",
            "                           Irish (gle)       0.91      0.94      0.92       200\n",
            "                        Galician (glg)       0.85      0.79      0.82       200\n",
            "                          Gilaki (glk)       0.85      0.87      0.86       197\n",
            "                            Manx (glv)       0.98      0.93      0.96       199\n",
            "                         Guarani (grn)       0.99      0.94      0.97       200\n",
            "                        Gujarati (guj)       1.00      0.93      0.97       199\n",
            "                   Hakka Chinese (hak)       0.99      0.94      0.97       200\n",
            "                  Haitian Creole (hat)       0.60      0.89      0.72        37\n",
            "                           Hausa (hau)       0.95      0.93      0.94       198\n",
            "                  Serbo-Croatian (hbs)       0.41      0.22      0.29       200\n",
            "                          Hebrew (heb)       0.98      0.98      0.98       200\n",
            "                      Fiji Hindi (hif)       0.88      0.89      0.89       197\n",
            "                           Hindi (hin)       0.88      0.83      0.85       200\n",
            "                        Croatian (hrv)       0.41      0.13      0.20       198\n",
            "                   Upper Sorbian (hsb)       0.81      0.89      0.85       152\n",
            "                       Hungarian (hun)       0.86      0.98      0.92       200\n",
            "                        Armenian (hye)       0.99      0.95      0.97       198\n",
            "                            Igbo (ibo)       0.94      0.80      0.86       200\n",
            "                             Ido (ido)       0.92      0.91      0.91       200\n",
            "                     Interlingue (ile)       0.98      0.85      0.91       190\n",
            "                           Iloko (ilo)       0.90      0.90      0.90       199\n",
            "                     Interlingua (ina)       0.93      0.95      0.94       199\n",
            "                      Indonesian (ind)       0.33      0.01      0.01       195\n",
            "                       Icelandic (isl)       0.97      0.95      0.96       194\n",
            "                         Italian (ita)       0.80      0.85      0.83       200\n",
            "                 Jamaican Patois (jam)       0.83      0.97      0.89       200\n",
            "                        Javanese (jav)       0.85      0.85      0.85       200\n",
            "                          Lojban (jbo)       1.00      0.96      0.98       200\n",
            "                        Japanese (jpn)       0.99      0.97      0.98       200\n",
            "                      Karakalpak (kaa)       0.99      0.90      0.94       200\n",
            "                          Kabyle (kab)       0.93      0.88      0.90       200\n",
            "                         Kannada (kan)       0.90      0.96      0.93       200\n",
            "                        Georgian (kat)       0.97      0.94      0.95       200\n",
            "                          Kazakh (kaz)       0.96      0.96      0.96       186\n",
            "                       Kabardian (kbd)       0.98      0.97      0.98       200\n",
            "                   Central Khmer (khm)       0.95      0.89      0.92       200\n",
            "                     Kinyarwanda (kin)       0.93      0.86      0.89       199\n",
            "                         Kirghiz (kir)       0.90      0.89      0.90       180\n",
            "                    Komi-Permyak (koi)       0.85      0.87      0.86       200\n",
            "                         Konkani (kok)       0.80      0.77      0.79       197\n",
            "                            Komi (kom)       0.91      0.79      0.85       190\n",
            "                          Korean (kor)       0.99      0.98      0.99       200\n",
            "                 Karachay-Balkar (krc)       0.91      0.91      0.91       200\n",
            "                      Ripuarisch (ksh)       0.67      0.88      0.76       200\n",
            "                         Kurdish (kur)       0.90      0.97      0.94       200\n",
            "                          Ladino (lad)       0.86      0.89      0.87       200\n",
            "                             Lao (lao)       0.98      0.88      0.93       198\n",
            "                           Latin (lat)       0.90      0.86      0.88       191\n",
            "                         Latvian (lav)       0.94      0.88      0.91       199\n",
            "                        Lezghian (lez)       0.96      0.86      0.91       200\n",
            "                        Ligurian (lij)       0.92      0.89      0.90       200\n",
            "                       Limburgan (lim)       0.76      0.88      0.81       163\n",
            "                         Lingala (lin)       0.89      0.91      0.90       198\n",
            "                      Lithuanian (lit)       0.95      0.94      0.94       199\n",
            "                         Lombard (lmo)       0.92      0.77      0.84       200\n",
            "                   Northern Luri (lrc)       0.94      0.75      0.84       199\n",
            "                       Latgalian (ltg)       0.88      0.93      0.90       198\n",
            "                   Luxembourgish (ltz)       0.84      0.81      0.82       199\n",
            "                         Luganda (lug)       0.92      0.90      0.91       196\n",
            "                Literary Chinese (lzh)       0.91      0.94      0.93       200\n",
            "                        Maithili (mai)       0.84      0.92      0.88       199\n",
            "                       Malayalam (mal)       1.00      0.97      0.98       200\n",
            "                  Banyumasan (map-bms)       0.83      0.77      0.80       200\n",
            "                         Marathi (mar)       0.95      0.81      0.87       200\n",
            "                          Moksha (mdf)       0.85      0.95      0.90       198\n",
            "                    Eastern Mari (mhr)       0.90      0.85      0.88       199\n",
            "                     Minangkabau (min)       0.98      0.95      0.97       137\n",
            "                      Macedonian (mkd)       0.95      0.91      0.93       197\n",
            "                        Malagasy (mlg)       0.99      0.97      0.98       187\n",
            "                         Maltese (mlt)       0.91      0.98      0.94       200\n",
            "                       Mongolian (mon)       0.89      0.96      0.92       198\n",
            "                           Maori (mri)       0.99      0.97      0.98       193\n",
            "                    Western Mari (mrj)       0.99      0.97      0.98       200\n",
            "                           Malay (msa)       0.39      0.96      0.56       199\n",
            "                       Mirandese (mwl)       0.97      0.93      0.95       200\n",
            "                         Burmese (mya)       1.00      1.00      1.00       200\n",
            "                           Erzya (myv)       0.66      0.72      0.69       200\n",
            "                     Mazanderani (mzn)       0.86      0.91      0.89       188\n",
            "                 Min Nan Chinese (nan)       0.97      0.95      0.96       191\n",
            "                      Neapolitan (nap)       0.97      0.70      0.81       197\n",
            "                          Navajo (nav)       0.99      0.98      0.99       200\n",
            "               Classical Nahuatl (nci)       0.98      0.54      0.70       199\n",
            "                      Low German (nds)       0.87      0.91      0.89       200\n",
            "              West Low German (nds-nl)       0.68      0.80      0.73       200\n",
            "          Nepali (macrolanguage) (nep)       0.68      0.51      0.58       200\n",
            "                          Newari (new)       0.93      0.79      0.86        78\n",
            "                           Dutch (nld)       0.86      0.80      0.83       200\n",
            "               Norwegian Nynorsk (nno)       0.84      0.83      0.83       200\n",
            "                          Bokmål (nob)       0.71      0.83      0.76       200\n",
            "                           Narom (nrm)       0.95      0.69      0.80       200\n",
            "                  Northern Sotho (nso)       0.79      0.95      0.87       200\n",
            "                         Occitan (oci)       0.82      0.57      0.67       199\n",
            "                  Livvi-Karelian (olo)       0.85      0.91      0.88       200\n",
            "                           Oriya (ori)       0.99      0.95      0.97       200\n",
            "                           Oromo (orm)       0.96      0.86      0.90       199\n",
            "                        Ossetian (oss)       0.99      0.94      0.97       196\n",
            "                      Pangasinan (pag)       0.98      0.81      0.89       200\n",
            "                        Pampanga (pam)       0.96      0.62      0.76       104\n",
            "                         Panjabi (pan)       1.00      0.99      0.99       200\n",
            "                      Papiamento (pap)       0.91      0.94      0.92       200\n",
            "                          Picard (pcd)       0.72      0.58      0.64       198\n",
            "             Pennsylvania German (pdc)       0.74      0.69      0.72       199\n",
            "                 Palatine German (pfl)       0.80      0.67      0.73       200\n",
            "                 Western Panjabi (pnb)       0.94      0.97      0.96       193\n",
            "                          Polish (pol)       0.92      0.92      0.92       200\n",
            "                      Portuguese (por)       0.75      0.83      0.79       200\n",
            "                          Pushto (pus)       0.99      0.94      0.96       199\n",
            "                         Quechua (que)       0.74      0.93      0.82       200\n",
            "          Tarantino dialect (roa-tara)       0.92      0.90      0.91       200\n",
            "                         Romansh (roh)       0.90      0.93      0.91       200\n",
            "                        Romanian (ron)       0.97      0.89      0.93       200\n",
            "                           Rusyn (rue)       0.95      0.84      0.90       199\n",
            "                       Aromanian (rup)       0.95      0.82      0.88       200\n",
            "                         Russian (rus)       0.64      0.81      0.72       200\n",
            "                           Yakut (sah)       0.97      0.93      0.95       200\n",
            "                        Sanskrit (san)       0.98      0.90      0.94       199\n",
            "                        Sicilian (scn)       0.85      0.86      0.86       200\n",
            "                           Scots (sco)       0.95      0.88      0.91       200\n",
            "                      Samogitian (sgs)       0.98      0.95      0.97       200\n",
            "                         Sinhala (sin)       0.99      0.91      0.95       200\n",
            "                          Slovak (slk)       0.95      0.89      0.92       199\n",
            "                         Slovene (slv)       0.95      0.87      0.91       198\n",
            "                   Northern Sami (sme)       0.88      0.90      0.89       188\n",
            "                           Shona (sna)       0.88      0.82      0.85       198\n",
            "                          Sindhi (snd)       0.97      0.97      0.97       200\n",
            "                          Somali (som)       0.90      0.84      0.87       196\n",
            "                         Spanish (spa)       0.46      0.84      0.59       199\n",
            "                        Albanian (sqi)       0.95      0.93      0.94       200\n",
            "                       Sardinian (srd)       0.94      0.92      0.93       200\n",
            "                          Sranan (srn)       0.98      0.88      0.93       143\n",
            "                         Serbian (srp)       0.91      0.86      0.88       200\n",
            "                  Saterfriesisch (stq)       0.96      0.91      0.93       200\n",
            "                       Sundanese (sun)       0.93      0.86      0.89       156\n",
            "         Swahili (macrolanguage) (swa)       0.93      0.84      0.88       200\n",
            "                         Swedish (swe)       0.94      0.92      0.93       199\n",
            "                        Silesian (szl)       0.92      0.97      0.95       194\n",
            "                           Tamil (tam)       0.99      0.98      0.98       197\n",
            "                           Tatar (tat)       0.95      0.91      0.93       170\n",
            "                            Tulu (tcy)       0.95      0.91      0.93       200\n",
            "                          Telugu (tel)       0.99      0.94      0.97       179\n",
            "                           Tetum (tet)       1.00      0.81      0.90       200\n",
            "                           Tajik (tgk)       0.96      0.94      0.95       200\n",
            "                         Tagalog (tgl)       0.93      0.93      0.93       196\n",
            "                            Thai (tha)       0.90      0.97      0.93       200\n",
            "                          Tongan (ton)       0.99      0.99      0.99       200\n",
            "                          Tswana (tsn)       0.99      0.69      0.82       199\n",
            "                         Turkmen (tuk)       0.98      0.94      0.96       200\n",
            "                         Turkish (tur)       0.84      0.86      0.85       200\n",
            "                           Tuvan (tyv)       0.89      0.90      0.90       199\n",
            "                          Udmurt (udm)       0.98      0.94      0.96       200\n",
            "                          Uighur (uig)       0.98      0.95      0.97       200\n",
            "                       Ukrainian (ukr)       0.81      0.94      0.87       199\n",
            "                            Urdu (urd)       0.98      0.97      0.98       200\n",
            "                           Uzbek (uzb)       0.97      0.92      0.94       200\n",
            "                        Venetian (vec)       0.88      0.86      0.87       200\n",
            "                            Veps (vep)       0.94      0.90      0.92       200\n",
            "                      Vietnamese (vie)       0.97      0.94      0.95       200\n",
            "                          Vlaams (vls)       0.92      0.65      0.76       200\n",
            "                         Volapük (vol)       0.98      0.98      0.98       200\n",
            "                            Võro (vro)       0.98      0.76      0.85       200\n",
            "                           Waray (war)       1.00      0.98      0.99       200\n",
            "                         Walloon (wln)       0.96      0.91      0.93       200\n",
            "                           Wolof (wol)       0.94      0.90      0.92       198\n",
            "                      Wu Chinese (wuu)       0.95      0.84      0.90       200\n",
            "                           Xhosa (xho)       0.91      0.85      0.88       200\n",
            "                      Mingrelian (xmf)       0.95      0.95      0.95       200\n",
            "                         Yiddish (yid)       0.99      0.96      0.98       196\n",
            "                          Yoruba (yor)       0.87      0.83      0.85       200\n",
            "                          Zeeuws (zea)       0.78      0.74      0.76       200\n",
            "                    Cantonese (zh-yue)       0.87      0.90      0.89       199\n",
            "                Standard Chinese (zho)       0.92      0.92      0.92       200\n",
            "\n",
            "                              accuracy                           0.87     45819\n",
            "                             macro avg       0.89      0.87      0.87     45819\n",
            "                          weighted avg       0.89      0.87      0.87     45819\n",
            "\n"
          ],
          "name": "stdout"
        }
      ]
    },
    {
      "cell_type": "code",
      "metadata": {
        "id": "W0QA_9YIQBEr"
      },
      "source": [
        "with open(\"report.txt\", \"w\") as fp:\n",
        "    fp.write(report)"
      ],
      "execution_count": 136,
      "outputs": []
    },
    {
      "cell_type": "code",
      "metadata": {
        "id": "uCaciLEVQSn4"
      },
      "source": [
        "report_df = pd.DataFrame.from_dict(report_dict).T\n",
        "report_df.to_csv(\"report.csv\", sep=\"\\t\", encoding=\"utf-8\")"
      ],
      "execution_count": 145,
      "outputs": []
    },
    {
      "cell_type": "code",
      "metadata": {
        "id": "ifKgXe89FlmQ"
      },
      "source": [
        "import matplotlib.pyplot as plt\n",
        "from matplotlib import cm\n",
        "import seaborn as sns\n",
        "from sklearn.metrics import confusion_matrix\n",
        "\n",
        "\n",
        "def confusion_matrix_plot(\n",
        "    y_true,\n",
        "    y_pred,\n",
        "    target_names,\n",
        "    cmap=\"GnBu\",\n",
        "    vmin=0,\n",
        "    vmax=None,\n",
        "    xaxis_title=\"True Language\",\n",
        "    yaxis_title=\"Predicted Language\",\n",
        "    figsize=(20, 20),\n",
        "    diagonal_to_zero=False\n",
        "):\n",
        "\n",
        "    cm = confusion_matrix(y_true, y_pred, labels=target_names)\n",
        "    if diagonal_to_zero:\n",
        "        np.fill_diagonal(cm, 0)\n",
        "\n",
        "    df_cm = pd.DataFrame(cm, index=target_names, columns=target_names)\n",
        "\n",
        "    fig, ax = plt.subplots(figsize=figsize)\n",
        "    kwargs = {\n",
        "        # \"vmin\": vmin,\n",
        "        # \"vmax\": vmax,\n",
        "        \"cmap\": cmap,\n",
        "        \"cbar\": True,\n",
        "        \"ax\": ax\n",
        "    }\n",
        "    ax = sns.heatmap(\n",
        "        df_cm, \n",
        "        # robust=True,\n",
        "        # square=True,\n",
        "        # cbar=True,\n",
        "        **kwargs\n",
        "    )\n",
        "\n",
        "    \n",
        "    ax.set_ylabel(xaxis_title)\n",
        "    ax.set_xlabel(yaxis_title)\n",
        "\n",
        "    plt.tight_layout()\n",
        "    fig.savefig('confusion_matrix.png', format='png', dpi=300)\n",
        "    plt.show()"
      ],
      "execution_count": 129,
      "outputs": []
    },
    {
      "cell_type": "code",
      "metadata": {
        "id": "IrOIUtXt-tYX"
      },
      "source": [
        "y_trues_names = [target_names[y] for y in y_trues]\n",
        "y_preds_names = [target_names[y] for y in y_preds]"
      ],
      "execution_count": 130,
      "outputs": []
    },
    {
      "cell_type": "code",
      "metadata": {
        "colab": {
          "base_uri": "https://localhost:8080/",
          "height": 1000
        },
        "id": "ixWGZe258iST",
        "outputId": "fa40d459-f49c-488e-ea33-4bf493472696"
      },
      "source": [
        "confusion_matrix_plot(y_trues_names, y_preds_names, target_names, cmap=\"viridis\", figsize=(40, 40), diagonal_to_zero=True)"
      ],
      "execution_count": 131,
      "outputs": [
        {
          "output_type": "display_data",
          "data": {
            "image/png": "[encoded data removed]",
            "text/plain": [
              "<Figure size 2880x2880 with 2 Axes>"
            ]
          },
          "metadata": {
            "tags": [],
            "needs_background": "light"
          }
        }
      ]
    }
  ]
}