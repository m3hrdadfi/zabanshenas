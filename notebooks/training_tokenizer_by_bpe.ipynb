{
 "metadata": {
  "language_info": {
   "codemirror_mode": {
    "name": "ipython",
    "version": 3
   },
   "file_extension": ".py",
   "mimetype": "text/x-python",
   "name": "python",
   "nbconvert_exporter": "python",
   "pygments_lexer": "ipython3",
   "version": "3.8.5"
  },
  "orig_nbformat": 2,
  "kernelspec": {
   "name": "python3",
   "display_name": "Python 3",
   "language": "python"
  }
 },
 "nbformat": 4,
 "nbformat_minor": 2,
 "cells": [
  {
   "source": [
    "# Requirements"
   ],
   "cell_type": "markdown",
   "metadata": {}
  },
  {
   "cell_type": "code",
   "execution_count": 1,
   "metadata": {},
   "outputs": [
    {
     "output_type": "stream",
     "name": "stdout",
     "text": [
      "\u001b[31mERROR: pip's dependency resolver does not currently take into account all the packages that are installed. This behaviour is the source of the following dependency conflicts.\n",
      "transformers 4.2.2 requires tokenizers==0.9.4, but you have tokenizers 0.10.1 which is incompatible.\u001b[0m\n",
      "zsh:1: no matches found: clean-text[gpl]\n"
     ]
    }
   ],
   "source": [
    "!pip install -qU tokenizers\n",
    "!pip install -qU clean-text[gpl]\n",
    "!pip install -qU emoji"
   ]
  },
  {
   "cell_type": "code",
   "execution_count": 18,
   "metadata": {},
   "outputs": [],
   "source": [
    "import numpy as np\n",
    "import pandas as pd\n",
    "\n",
    "from sklearn.model_selection import train_test_split\n",
    "from tqdm import tqdm\n",
    "\n",
    "from pathlib import Path"
   ]
  },
  {
   "source": [
    "# Cloning the zabanshenas"
   ],
   "cell_type": "markdown",
   "metadata": {}
  },
  {
   "cell_type": "code",
   "execution_count": 6,
   "metadata": {},
   "outputs": [
    {
     "output_type": "stream",
     "name": "stdout",
     "text": [
      "Cloning into 'zabanshenas'...\n",
      "remote: Enumerating objects: 5, done.\u001b[K\n",
      "remote: Counting objects: 100% (5/5), done.\u001b[K\n",
      "remote: Compressing objects: 100% (4/4), done.\u001b[K\n",
      "remote: Total 5 (delta 0), reused 0 (delta 0), pack-reused 0\u001b[K\n",
      "Unpacking objects: 100% (5/5), done.\n"
     ]
    }
   ],
   "source": [
    "!git clone https://github.com/m3hrdadfi/zabanshenas"
   ]
  },
  {
   "source": [
    "# Downloading and loading the WiLI-2018"
   ],
   "cell_type": "markdown",
   "metadata": {}
  },
  {
   "cell_type": "code",
   "execution_count": 2,
   "metadata": {},
   "outputs": [
    {
     "output_type": "stream",
     "name": "stdout",
     "text": [
      "rm: ./wili-2018.zip: No such file or directory\n",
      "--2021-02-12 12:39:16--  https://zenodo.org/record/841984/files/wili-2018.zip\n",
      "Resolving zenodo.org (zenodo.org)... 137.138.76.77\n",
      "Connecting to zenodo.org (zenodo.org)|137.138.76.77|:443... connected.\n",
      "HTTP request sent, awaiting response... 200 OK\n",
      "Length: 62403646 (60M) [application/octet-stream]\n",
      "Saving to: ‘wili-2018.zip’\n",
      "\n",
      "wili-2018.zip       100%[===================>]  59.51M  3.30MB/s    in 45s     \n",
      "\n",
      "2021-02-12 12:40:02 (1.32 MB/s) - ‘wili-2018.zip’ saved [62403646/62403646]\n",
      "\n",
      "Archive:  wili-2018.zip\n",
      "  inflating: wili-2018/x_train.txt   \n",
      "  inflating: wili-2018/y_train.txt   \n",
      "  inflating: wili-2018/x_test.txt    \n",
      "  inflating: wili-2018/y_test.txt    \n",
      "  inflating: wili-2018/labels.csv    \n",
      "  inflating: wili-2018/README.txt    \n",
      "  inflating: wili-2018/urls.txt      \n"
     ]
    }
   ],
   "source": [
    "!rm ./wili-2018.zip\n",
    "!wget https://zenodo.org/record/841984/files/wili-2018.zip\n",
    "\n",
    "!mkdir -p ./wili-2018\n",
    "!unzip wili-2018.zip -d wili-2018"
   ]
  },
  {
   "cell_type": "code",
   "execution_count": 17,
   "metadata": {},
   "outputs": [
    {
     "output_type": "stream",
     "name": "stdout",
     "text": [
      "/Users/m3hrdadfi/Projects/Apps/zabanshenas/notebooks/zabanshenas/src\n__init__.py        data_loader.py     models.py          train_tokenizer.py\nattentions.py      layers.py          positionals.py     \u001b[1m\u001b[36mutils\u001b[m\u001b[m\nconfig.py          main.py            train_model.py\n"
     ]
    }
   ],
   "source": [
    "%cd zabanshenas/src\n",
    "!ls"
   ]
  },
  {
   "cell_type": "code",
   "execution_count": 23,
   "metadata": {},
   "outputs": [],
   "source": [
    "from utils.utils import num_lines_in_file"
   ]
  },
  {
   "cell_type": "code",
   "execution_count": 20,
   "metadata": {},
   "outputs": [
    {
     "output_type": "execute_result",
     "data": {
      "text/plain": [
       "['../../wili-2018/x_test.txt', '../../wili-2018/x_train.txt']"
      ]
     },
     "metadata": {},
     "execution_count": 20
    }
   ],
   "source": [
    "paths = [str(x) for x in Path(\"../../wili-2018\").glob(\"**/x_*.txt\")][::-1]\n",
    "paths"
   ]
  },
  {
   "cell_type": "code",
   "execution_count": 21,
   "metadata": {},
   "outputs": [],
   "source": [
    "!mkdir -p ./data"
   ]
  },
  {
   "cell_type": "code",
   "execution_count": 24,
   "metadata": {},
   "outputs": [
    {
     "output_type": "stream",
     "name": "stderr",
     "text": [
      "100%|██████████| 117500/117500 [00:01<00:00, 94209.61it/s]\n",
      "100%|██████████| 117500/117500 [00:01<00:00, 96228.63it/s]\n",
      "100%|██████████| 2/2 [00:02<00:00,  1.48s/it]\n"
     ]
    }
   ],
   "source": [
    "for path in tqdm(paths, position=0):\n",
    "    new_name = path.split(\"/\")[-1]\n",
    "    new_path = f\"./data/{new_name}\"\n",
    "    with open(new_path, \"w\", encoding=\"utf-8\") as fo:\n",
    "        with open(path, \"r\", encoding=\"utf-8\") as fi:\n",
    "            for line in tqdm(fi, total=num_lines_in_file(path), position=0):\n",
    "                line = line.strip().replace(\"\\t\", \" \")\n",
    "                if line:\n",
    "                    fo.write(line + \"\\n\")"
   ]
  },
  {
   "source": [
    "# Training BPE using Tokenizers"
   ],
   "cell_type": "markdown",
   "metadata": {}
  },
  {
   "cell_type": "code",
   "execution_count": 30,
   "metadata": {},
   "outputs": [
    {
     "output_type": "stream",
     "name": "stdout",
     "text": [
      "usage: train_tokenizer.py [-h] --dir dir [--files path] [--out OUT]\n                          [--name NAME]\n\noptional arguments:\n  -h, --help    show this help message and exit\n  --dir dir     The directory contains the corpora.\n  --files path  The corpora to use as training; accepts '**/*.txt' pattern.\n  --out OUT     The output directory, where the model will be saved.\n  --name NAME   The prefix name of the output model\n"
     ]
    }
   ],
   "source": [
    "!python3 train_tokenizer.py -h"
   ]
  },
  {
   "cell_type": "code",
   "execution_count": 32,
   "metadata": {
    "tags": [
     "outputPrepend"
    ]
   },
   "outputs": [
    {
     "output_type": "stream",
     "name": "stdout",
     "text": [
      "9\n",
      "\u001b[2K\u001b[1B\u001b[1A[00:00:12] Tokenize words                           ███████░ 1312256  /  1491229\n",
      "\u001b[2K\u001b[1B\u001b[1A[00:00:12] Tokenize words                           ███████░ 1327168  /  1491229\n",
      "\u001b[2K\u001b[1B\u001b[1A[00:00:12] Tokenize words                           ███████░ 1342080  /  1491229\n",
      "\u001b[2K\u001b[1B\u001b[1A[00:00:12] Tokenize words                           ███████░ 1356992  /  1491229\n",
      "\u001b[2K\u001b[1B\u001b[1A[00:00:12] Tokenize words                           ███████░ 1371904  /  1491229\n",
      "\u001b[2K\u001b[1B\u001b[1A[00:00:12] Tokenize words                           ███████░ 1386816  /  1491229\n",
      "\u001b[2K\u001b[1B\u001b[1A[00:00:13] Tokenize words                           ███████░ 1401728  /  1491229\n",
      "\u001b[2K\u001b[1B\u001b[1A[00:00:13] Tokenize words                           ███████░ 1416640  /  1491229\n",
      "\u001b[2K\u001b[1B\u001b[1A[00:00:13] Tokenize words                           ███████░ 1431552  /  1491229\n",
      "\u001b[2K\u001b[1B\u001b[1A[00:00:13] Tokenize words                           ███████░ 1446464  /  1491229\n",
      "\u001b[2K\u001b[1B\u001b[1A[00:00:13] Tokenize words                           ███████░ 1461376  /  1491229\n",
      "\u001b[2K\u001b[1B\u001b[1A[00:00:13] Tokenize words                           ███████░ 1476288  /  1491229\n",
      "\u001b[2K\u001b[1B\u001b[1A[00:00:13] Tokenize words                           ███████░ 1491200  /  1491229\n",
      "\u001b[2K\u001b[1B\u001b[1A[00:00:13] Tokenize words                           ████████ 1491229  /  1491229\n",
      "\n",
      "\u001b[2K\u001b[1B\u001b[1A[00:00:00] Count pairs                              ░░░░░░░░ 14912    /  1491229\n",
      "\u001b[2K\u001b[1B\u001b[1A[00:00:00] Count pairs                              ░░░░░░░░ 29824    /  1491229\n",
      "\u001b[2K\u001b[1B\u001b[1A[00:00:01] Count pairs                              ░░░░░░░░ 44736    /  1491229\n",
      "\u001b[2K\u001b[1B\u001b[1A[00:00:02] Count pairs                              ░░░░░░░░ 59648    /  1491229\n",
      "\u001b[2K\u001b[1B\u001b[1A[00:00:02] Count pairs                              ░░░░░░░░ 74560    /  1491229\n",
      "\u001b[2K\u001b[1B\u001b[1A[00:00:03] Count pairs                              ░░░░░░░░ 89472    /  1491229\n",
      "\u001b[2K\u001b[1B\u001b[1A[00:00:04] Count pairs                              ░░░░░░░░ 104384   /  1491229\n",
      "\u001b[2K\u001b[1B\u001b[1A[00:00:05] Count pairs                              ░░░░░░░░ 119296   /  1491229\n",
      "\u001b[2K\u001b[1B\u001b[1A[00:00:06] Count pairs                              ░░░░░░░░ 134208   /  1491229\n",
      "\u001b[2K\u001b[1B\u001b[1A[00:00:07] Count pairs                              ░░░░░░░░ 149120   /  1491229\n",
      "\u001b[2K\u001b[1B\u001b[1A[00:00:08] Count pairs                              ░░░░░░░░ 164032   /  1491229\n",
      "\u001b[2K\u001b[1B\u001b[1A[00:00:09] Count pairs                              ░░░░░░░░ 178944   /  1491229\n",
      "\u001b[2K\u001b[1B\u001b[1A[00:00:10] Count pairs                              █░░░░░░░ 193856   /  1491229\n",
      "\u001b[2K\u001b[1B\u001b[1A[00:00:12] Count pairs                              █░░░░░░░ 208768   /  1491229\n",
      "\u001b[2K\u001b[1B\u001b[1A[00:00:15] Count pairs                              █░░░░░░░ 223680   /  1491229\n",
      "\u001b[2K\u001b[1B\u001b[1A[00:00:18] Count pairs                              █░░░░░░░ 238592   /  1491229\n",
      "\u001b[2K\u001b[1B\u001b[1A[00:00:20] Count pairs                              █░░░░░░░ 253504   /  1491229\n",
      "\u001b[2K\u001b[1B\u001b[1A[00:00:23] Count pairs                              █░░░░░░░ 268416   /  1491229\n",
      "\u001b[2K\u001b[1B\u001b[1A[00:00:24] Count pairs                              █░░░░░░░ 283328   /  1491229\n",
      "\u001b[2K\u001b[1B\u001b[1A[00:00:26] Count pairs                              █░░░░░░░ 298240   /  1491229\n",
      "\u001b[2K\u001b[1B\u001b[1A[00:00:29] Count pairs                              █░░░░░░░ 313152   /  1491229\n",
      "\u001b[2K\u001b[1B\u001b[1A[00:00:31] Count pairs                              █░░░░░░░ 328064   /  1491229\n",
      "\u001b[2K\u001b[1B\u001b[1A[00:00:32] Count pairs                              █░░░░░░░ 342976   /  1491229\n",
      "\u001b[2K\u001b[1B\u001b[1A[00:00:33] Count pairs                              █░░░░░░░ 357888   /  1491229\n",
      "\u001b[2K\u001b[1B\u001b[1A[00:00:35] Count pairs                              █░░░░░░░ 372800   /  1491229\n",
      "\u001b[2K\u001b[1B\u001b[1A[00:00:36] Count pairs                              ██░░░░░░ 387712   /  1491229\n",
      "\u001b[2K\u001b[1B\u001b[1A[00:00:39] Count pairs                              ██░░░░░░ 402624   /  1491229\n",
      "\u001b[2K\u001b[1B\u001b[1A[00:00:41] Count pairs                              ██░░░░░░ 417536   /  1491229\n",
      "\u001b[2K\u001b[1B\u001b[1A[00:00:42] Count pairs                              ██░░░░░░ 432448   /  1491229\n",
      "\u001b[2K\u001b[1B\u001b[1A[00:00:44] Count pairs                              ██░░░░░░ 447360   /  1491229\n",
      "\u001b[2K\u001b[1B\u001b[1A[00:00:46] Count pairs                              ██░░░░░░ 462272   /  1491229\n",
      "\u001b[2K\u001b[1B\u001b[1A[00:00:47] Count pairs                              ██░░░░░░ 477184   /  1491229\n",
      "\u001b[2K\u001b[1B\u001b[1A[00:00:48] Count pairs                              ██░░░░░░ 492096   /  1491229\n",
      "\u001b[2K\u001b[1B\u001b[1A[00:00:50] Count pairs                              ██░░░░░░ 507008   /  1491229\n",
      "\u001b[2K\u001b[1B\u001b[1A[00:00:52] Count pairs                              ██░░░░░░ 521920   /  1491229\n",
      "\u001b[2K\u001b[1B\u001b[1A[00:00:54] Count pairs                              ██░░░░░░ 536832   /  1491229\n",
      "\u001b[2K\u001b[1B\u001b[1A[00:00:55] Count pairs                              ██░░░░░░ 551744   /  1491229\n",
      "\u001b[2K\u001b[1B\u001b[1A[00:00:56] Count pairs                              ███░░░░░ 566656   /  1491229\n",
      "\u001b[2K\u001b[1B\u001b[1A[00:00:58] Count pairs                              ███░░░░░ 581568   /  1491229\n",
      "\u001b[2K\u001b[1B\u001b[1A[00:01:00] Count pairs                              ███░░░░░ 596480   /  1491229\n",
      "\u001b[2K\u001b[1B\u001b[1A[00:01:02] Count pairs                              ███░░░░░ 611392   /  1491229\n",
      "\u001b[2K\u001b[1B\u001b[1A[00:01:04] Count pairs                              ███░░░░░ 626304   /  1491229\n",
      "\u001b[2K\u001b[1B\u001b[1A[00:01:05] Count pairs                              ███░░░░░ 641216   /  1491229\n",
      "\u001b[2K\u001b[1B\u001b[1A[00:01:06] Count pairs                              ███░░░░░ 656128   /  1491229\n",
      "\u001b[2K\u001b[1B\u001b[1A[00:01:07] Count pairs                              ███░░░░░ 671040   /  1491229\n",
      "\u001b[2K\u001b[1B\u001b[1A[00:01:08] Count pairs                              ███░░░░░ 685952   /  1491229\n",
      "\u001b[2K\u001b[1B\u001b[1A[00:01:09] Count pairs                              ███░░░░░ 700864   /  1491229\n",
      "\u001b[2K\u001b[1B\u001b[1A[00:01:11] Count pairs                              ███░░░░░ 715776   /  1491229\n",
      "\u001b[2K\u001b[1B\u001b[1A[00:01:13] Count pairs                              ███░░░░░ 730688   /  1491229\n",
      "\u001b[2K\u001b[1B\u001b[1A[00:01:13] Count pairs                              ███░░░░░ 745600   /  1491229\n",
      "\u001b[2K\u001b[1B\u001b[1A[00:01:14] Count pairs                              ████░░░░ 760512   /  1491229\n",
      "\u001b[2K\u001b[1B\u001b[1A[00:01:15] Count pairs                              ████░░░░ 775424   /  1491229\n",
      "\u001b[2K\u001b[1B\u001b[1A[00:01:15] Count pairs                              ████░░░░ 790336   /  1491229\n",
      "\u001b[2K\u001b[1B\u001b[1A[00:01:16] Count pairs                              ████░░░░ 805248   /  1491229\n",
      "\u001b[2K\u001b[1B\u001b[1A[00:01:17] Count pairs                              ████░░░░ 820160   /  1491229\n",
      "\u001b[2K\u001b[1B\u001b[1A[00:01:18] Count pairs                              ████░░░░ 835072   /  1491229\n",
      "\u001b[2K\u001b[1B\u001b[1A[00:01:19] Count pairs                              ████░░░░ 849984   /  1491229\n",
      "\u001b[2K\u001b[1B\u001b[1A[00:01:20] Count pairs                              ████░░░░ 864896   /  1491229\n",
      "\u001b[2K\u001b[1B\u001b[1A[00:01:21] Count pairs                              ████░░░░ 879808   /  1491229\n",
      "\u001b[2K\u001b[1B\u001b[1A[00:01:22] Count pairs                              ████░░░░ 894720   /  1491229\n",
      "\u001b[2K\u001b[1B\u001b[1A[00:01:23] Count pairs                              ████░░░░ 909632   /  1491229\n",
      "\u001b[2K\u001b[1B\u001b[1A[00:01:24] Count pairs                              ████░░░░ 924544   /  1491229\n",
      "\u001b[2K\u001b[1B\u001b[1A[00:01:25] Count pairs                              █████░░░ 939456   /  1491229\n",
      "\u001b[2K\u001b[1B\u001b[1A[00:01:27] Count pairs                              █████░░░ 954368   /  1491229\n",
      "\u001b[2K\u001b[1B\u001b[1A[00:01:28] Count pairs                              █████░░░ 969280   /  1491229\n",
      "\u001b[2K\u001b[1B\u001b[1A[00:01:29] Count pairs                              █████░░░ 984192   /  1491229\n",
      "\u001b[2K\u001b[1B\u001b[1A[00:01:30] Count pairs                              █████░░░ 999104   /  1491229\n",
      "\u001b[2K\u001b[1B\u001b[1A[00:01:30] Count pairs                              █████░░░ 1014016  /  1491229\n",
      "\u001b[2K\u001b[1B\u001b[1A[00:01:32] Count pairs                              █████░░░ 1028928  /  1491229\n",
      "\u001b[2K\u001b[1B\u001b[1A[00:01:34] Count pairs                              █████░░░ 1043840  /  1491229\n",
      "\u001b[2K\u001b[1B\u001b[1A[00:01:34] Count pairs                              █████░░░ 1058752  /  1491229\n",
      "\u001b[2K\u001b[1B\u001b[1A[00:01:35] Count pairs                              █████░░░ 1073664  /  1491229\n",
      "\u001b[2K\u001b[1B\u001b[1A[00:01:36] Count pairs                              █████░░░ 1088576  /  1491229\n",
      "\u001b[2K\u001b[1B\u001b[1A[00:01:37] Count pairs                              █████░░░ 1103488  /  1491229\n",
      "\u001b[2K\u001b[1B\u001b[1A[00:01:38] Count pairs                              █████░░░ 1118400  /  1491229\n",
      "\u001b[2K\u001b[1B\u001b[1A[00:01:40] Count pairs                              ██████░░ 1133312  /  1491229\n",
      "\u001b[2K\u001b[1B\u001b[1A[00:01:41] Count pairs                              ██████░░ 1148224  /  1491229\n",
      "\u001b[2K\u001b[1B\u001b[1A[00:01:43] Count pairs                              ██████░░ 1163136  /  1491229\n",
      "\u001b[2K\u001b[1B\u001b[1A[00:01:45] Count pairs                              ██████░░ 1178048  /  1491229\n",
      "\u001b[2K\u001b[1B\u001b[1A[00:01:46] Count pairs                              ██████░░ 1192960  /  1491229\n",
      "\u001b[2K\u001b[1B\u001b[1A[00:01:48] Count pairs                              ██████░░ 1207872  /  1491229\n",
      "\u001b[2K\u001b[1B\u001b[1A[00:01:50] Count pairs                              ██████░░ 1222784  /  1491229\n",
      "\u001b[2K\u001b[1B\u001b[1A[00:01:51] Count pairs                              ██████░░ 1237696  /  1491229\n",
      "\u001b[2K\u001b[1B\u001b[1A[00:01:52] Count pairs                              ██████░░ 1252608  /  1491229\n",
      "\u001b[2K\u001b[1B\u001b[1A[00:01:54] Count pairs                              ██████░░ 1267520  /  1491229\n",
      "\u001b[2K\u001b[1B\u001b[1A[00:01:55] Count pairs                              ██████░░ 1282432  /  1491229\n",
      "\u001b[2K\u001b[1B\u001b[1A[00:01:57] Count pairs                              ██████░░ 1297344  /  1491229\n",
      "\u001b[2K\u001b[1B\u001b[1A[00:01:57] Count pairs                              ███████░ 1312256  /  1491229\n",
      "\u001b[2K\u001b[1B\u001b[1A[00:01:58] Count pairs                              ███████░ 1327168  /  1491229\n",
      "\u001b[2K\u001b[1B\u001b[1A[00:01:58] Count pairs                              ███████░ 1342080  /  1491229\n",
      "\u001b[2K\u001b[1B\u001b[1A[00:01:59] Count pairs                              ███████░ 1356992  /  1491229\n",
      "\u001b[2K\u001b[1B\u001b[1A[00:01:59] Count pairs                              ███████░ 1371904  /  1491229\n",
      "\u001b[2K\u001b[1B\u001b[1A[00:02:00] Count pairs                              ███████░ 1386816  /  1491229\n",
      "\u001b[2K\u001b[1B\u001b[1A[00:02:00] Count pairs                              ███████░ 1401728  /  1491229\n",
      "\u001b[2K\u001b[1B\u001b[1A[00:02:01] Count pairs                              ███████░ 1416640  /  1491229\n",
      "\u001b[2K\u001b[1B\u001b[1A[00:02:01] Count pairs                              ███████░ 1431552  /  1491229\n",
      "\u001b[2K\u001b[1B\u001b[1A[00:02:02] Count pairs                              ███████░ 1446464  /  1491229\n",
      "\u001b[2K\u001b[1B\u001b[1A[00:02:02] Count pairs                              ███████░ 1461376  /  1491229\n",
      "\u001b[2K\u001b[1B\u001b[1A[00:02:02] Count pairs                              ███████░ 1476288  /  1491229\n",
      "\u001b[2K\u001b[1B\u001b[1A[00:02:03] Count pairs                              ███████░ 1491200  /  1491229\n",
      "\u001b[2K\u001b[1B\u001b[1A[00:02:08] Count pairs                              ████████ 1491229  /  1491229\n",
      "\n",
      "\u001b[2K\u001b[1B\u001b[1A[00:00:40] Compute merges                           ░░░░░░░░ 300      /    30000\n",
      "\u001b[2K\u001b[1B\u001b[1A[00:00:58] Compute merges                           ░░░░░░░░ 600      /    30000\n",
      "\u001b[2K\u001b[1B\u001b[1A[00:01:03] Compute merges                           ░░░░░░░░ 900      /    30000\n",
      "\u001b[2K\u001b[1B\u001b[1A[00:01:07] Compute merges                           ░░░░░░░░ 1200     /    30000\n",
      "\u001b[2K\u001b[1B\u001b[1A[00:01:11] Compute merges                           ░░░░░░░░ 1500     /    30000\n",
      "\u001b[2K\u001b[1B\u001b[1A[00:01:15] Compute merges                           ░░░░░░░░ 1800     /    30000\n",
      "\u001b[2K\u001b[1B\u001b[1A[00:01:16] Compute merges                           ░░░░░░░░ 2100     /    30000\n",
      "\u001b[2K\u001b[1B\u001b[1A[00:01:17] Compute merges                           ░░░░░░░░ 2400     /    30000\n",
      "\u001b[2K\u001b[1B\u001b[1A[00:01:18] Compute merges                           ░░░░░░░░ 2700     /    30000\n",
      "\u001b[2K\u001b[1B\u001b[1A[00:01:19] Compute merges                           ░░░░░░░░ 3000     /    30000\n",
      "\u001b[2K\u001b[1B\u001b[1A[00:01:20] Compute merges                           ░░░░░░░░ 3300     /    30000\n",
      "\u001b[2K\u001b[1B\u001b[1A[00:01:21] Compute merges                           ░░░░░░░░ 3600     /    30000\n",
      "\u001b[2K\u001b[1B\u001b[1A[00:01:21] Compute merges                           █░░░░░░░ 3900     /    30000\n",
      "\u001b[2K\u001b[1B\u001b[1A[00:01:22] Compute merges                           █░░░░░░░ 4200     /    30000\n",
      "\u001b[2K\u001b[1B\u001b[1A[00:01:22] Compute merges                           █░░░░░░░ 4500     /    30000\n",
      "\u001b[2K\u001b[1B\u001b[1A[00:01:23] Compute merges                           █░░░░░░░ 4800     /    30000\n",
      "\u001b[2K\u001b[1B\u001b[1A[00:01:23] Compute merges                           █░░░░░░░ 5100     /    30000\n",
      "\u001b[2K\u001b[1B\u001b[1A[00:01:23] Compute merges                           █░░░░░░░ 5400     /    30000\n",
      "\u001b[2K\u001b[1B\u001b[1A[00:01:24] Compute merges                           █░░░░░░░ 5700     /    30000\n",
      "\u001b[2K\u001b[1B\u001b[1A[00:01:24] Compute merges                           █░░░░░░░ 6000     /    30000\n",
      "\u001b[2K\u001b[1B\u001b[1A[00:01:24] Compute merges                           █░░░░░░░ 6300     /    30000\n",
      "\u001b[2K\u001b[1B\u001b[1A[00:01:25] Compute merges                           █░░░░░░░ 6600     /    30000\n",
      "\u001b[2K\u001b[1B\u001b[1A[00:01:25] Compute merges                           █░░░░░░░ 6900     /    30000\n",
      "\u001b[2K\u001b[1B\u001b[1A[00:01:26] Compute merges                           █░░░░░░░ 7200     /    30000\n",
      "\u001b[2K\u001b[1B\u001b[1A[00:01:26] Compute merges                           ██░░░░░░ 7500     /    30000\n",
      "\u001b[2K\u001b[1B\u001b[1A[00:01:26] Compute merges                           ██░░░░░░ 7800     /    30000\n",
      "\u001b[2K\u001b[1B\u001b[1A[00:01:27] Compute merges                           ██░░░░░░ 8100     /    30000\n",
      "\u001b[2K\u001b[1B\u001b[1A[00:01:27] Compute merges                           ██░░░░░░ 8400     /    30000\n",
      "\u001b[2K\u001b[1B\u001b[1A[00:01:27] Compute merges                           ██░░░░░░ 8700     /    30000\n",
      "\u001b[2K\u001b[1B\u001b[1A[00:01:27] Compute merges                           ██░░░░░░ 9000     /    30000\n",
      "\u001b[2K\u001b[1B\u001b[1A[00:01:28] Compute merges                           ██░░░░░░ 9300     /    30000\n",
      "\u001b[2K\u001b[1B\u001b[1A[00:01:28] Compute merges                           ██░░░░░░ 9600     /    30000\n",
      "\u001b[2K\u001b[1B\u001b[1A[00:01:28] Compute merges                           ██░░░░░░ 9900     /    30000\n",
      "\u001b[2K\u001b[1B\u001b[1A[00:01:29] Compute merges                           ██░░░░░░ 10200    /    30000\n",
      "\u001b[2K\u001b[1B\u001b[1A[00:01:29] Compute merges                           ██░░░░░░ 10500    /    30000\n",
      "\u001b[2K\u001b[1B\u001b[1A[00:01:29] Compute merges                           ██░░░░░░ 10800    /    30000\n",
      "\u001b[2K\u001b[1B\u001b[1A[00:01:29] Compute merges                           ██░░░░░░ 11100    /    30000\n",
      "\u001b[2K\u001b[1B\u001b[1A[00:01:29] Compute merges                           ███░░░░░ 11400    /    30000\n",
      "\u001b[2K\u001b[1B\u001b[1A[00:01:30] Compute merges                           ███░░░░░ 11700    /    30000\n",
      "\u001b[2K\u001b[1B\u001b[1A[00:01:30] Compute merges                           ███░░░░░ 12000    /    30000\n",
      "\u001b[2K\u001b[1B\u001b[1A[00:01:30] Compute merges                           ███░░░░░ 12300    /    30000\n",
      "\u001b[2K\u001b[1B\u001b[1A[00:01:30] Compute merges                           ███░░░░░ 12600    /    30000\n",
      "\u001b[2K\u001b[1B\u001b[1A[00:01:30] Compute merges                           ███░░░░░ 12900    /    30000\n",
      "\u001b[2K\u001b[1B\u001b[1A[00:01:31] Compute merges                           ███░░░░░ 13200    /    30000\n",
      "\u001b[2K\u001b[1B\u001b[1A[00:01:31] Compute merges                           ███░░░░░ 13500    /    30000\n",
      "\u001b[2K\u001b[1B\u001b[1A[00:01:31] Compute merges                           ███░░░░░ 13800    /    30000\n",
      "\u001b[2K\u001b[1B\u001b[1A[00:01:31] Compute merges                           ███░░░░░ 14100    /    30000\n",
      "\u001b[2K\u001b[1B\u001b[1A[00:01:32] Compute merges                           ███░░░░░ 14400    /    30000\n",
      "\u001b[2K\u001b[1B\u001b[1A[00:01:32] Compute merges                           ███░░░░░ 14700    /    30000\n",
      "\u001b[2K\u001b[1B\u001b[1A[00:01:32] Compute merges                           ████░░░░ 15000    /    30000\n",
      "\u001b[2K\u001b[1B\u001b[1A[00:01:32] Compute merges                           ████░░░░ 15300    /    30000\n",
      "\u001b[2K\u001b[1B\u001b[1A[00:01:33] Compute merges                           ████░░░░ 15600    /    30000\n",
      "\u001b[2K\u001b[1B\u001b[1A[00:01:33] Compute merges                           ████░░░░ 15900    /    30000\n",
      "\u001b[2K\u001b[1B\u001b[1A[00:01:33] Compute merges                           ████░░░░ 16200    /    30000\n",
      "\u001b[2K\u001b[1B\u001b[1A[00:01:34] Compute merges                           ████░░░░ 16500    /    30000\n",
      "\u001b[2K\u001b[1B\u001b[1A[00:01:34] Compute merges                           ████░░░░ 16800    /    30000\n",
      "\u001b[2K\u001b[1B\u001b[1A[00:01:34] Compute merges                           ████░░░░ 17100    /    30000\n",
      "\u001b[2K\u001b[1B\u001b[1A[00:01:34] Compute merges                           ████░░░░ 17400    /    30000\n",
      "\u001b[2K\u001b[1B\u001b[1A[00:01:34] Compute merges                           ████░░░░ 17700    /    30000\n",
      "\u001b[2K\u001b[1B\u001b[1A[00:01:34] Compute merges                           ████░░░░ 18000    /    30000\n",
      "\u001b[2K\u001b[1B\u001b[1A[00:01:34] Compute merges                           ████░░░░ 18300    /    30000\n",
      "\u001b[2K\u001b[1B\u001b[1A[00:01:35] Compute merges                           ████░░░░ 18600    /    30000\n",
      "\u001b[2K\u001b[1B\u001b[1A[00:01:35] Compute merges                           █████░░░ 18900    /    30000\n",
      "\u001b[2K\u001b[1B\u001b[1A[00:01:35] Compute merges                           █████░░░ 19200    /    30000\n",
      "\u001b[2K\u001b[1B\u001b[1A[00:01:35] Compute merges                           █████░░░ 19500    /    30000\n",
      "\u001b[2K\u001b[1B\u001b[1A[00:01:35] Compute merges                           █████░░░ 19800    /    30000\n",
      "\u001b[2K\u001b[1B\u001b[1A[00:01:35] Compute merges                           █████░░░ 20100    /    30000\n",
      "\u001b[2K\u001b[1B\u001b[1A[00:01:35] Compute merges                           █████░░░ 20400    /    30000\n",
      "\u001b[2K\u001b[1B\u001b[1A[00:01:36] Compute merges                           █████░░░ 20700    /    30000\n",
      "\u001b[2K\u001b[1B\u001b[1A[00:01:36] Compute merges                           █████░░░ 21000    /    30000\n",
      "\u001b[2K\u001b[1B\u001b[1A[00:01:36] Compute merges                           █████░░░ 21300    /    30000\n",
      "\u001b[2K\u001b[1B\u001b[1A[00:01:36] Compute merges                           █████░░░ 21600    /    30000\n",
      "\u001b[2K\u001b[1B\u001b[1A[00:01:36] Compute merges                           █████░░░ 21900    /    30000\n",
      "\u001b[2K\u001b[1B\u001b[1A[00:01:36] Compute merges                           █████░░░ 22200    /    30000\n",
      "\u001b[2K\u001b[1B\u001b[1A[00:01:36] Compute merges                           ██████░░ 22500    /    30000\n",
      "\u001b[2K\u001b[1B\u001b[1A[00:01:37] Compute merges                           ██████░░ 22800    /    30000\n",
      "\u001b[2K\u001b[1B\u001b[1A[00:01:37] Compute merges                           ██████░░ 23100    /    30000\n",
      "\u001b[2K\u001b[1B\u001b[1A[00:01:37] Compute merges                           ██████░░ 23400    /    30000\n",
      "\u001b[2K\u001b[1B\u001b[1A[00:01:37] Compute merges                           ██████░░ 23700    /    30000\n",
      "\u001b[2K\u001b[1B\u001b[1A[00:01:37] Compute merges                           ██████░░ 24000    /    30000\n",
      "\u001b[2K\u001b[1B\u001b[1A[00:01:37] Compute merges                           ██████░░ 24300    /    30000\n",
      "\u001b[2K\u001b[1B\u001b[1A[00:01:37] Compute merges                           ██████░░ 24600    /    30000\n",
      "\u001b[2K\u001b[1B\u001b[1A[00:01:37] Compute merges                           ██████░░ 24900    /    30000\n",
      "\u001b[2K\u001b[1B\u001b[1A[00:01:37] Compute merges                           ██████░░ 25200    /    30000\n",
      "\u001b[2K\u001b[1B\u001b[1A[00:01:38] Compute merges                           ██████░░ 25500    /    30000\n",
      "\u001b[2K\u001b[1B\u001b[1A[00:01:38] Compute merges                           ██████░░ 25800    /    30000\n",
      "\u001b[2K\u001b[1B\u001b[1A[00:01:38] Compute merges                           ██████░░ 26100    /    30000\n",
      "\u001b[2K\u001b[1B\u001b[1A[00:01:38] Compute merges                           ███████░ 26400    /    30000\n",
      "\u001b[2K\u001b[1B\u001b[1A[00:01:38] Compute merges                           ███████░ 26700    /    30000\n",
      "\u001b[2K\u001b[1B\u001b[1A[00:01:38] Compute merges                           ███████░ 27000    /    30000\n",
      "\u001b[2K\u001b[1B\u001b[1A[00:01:39] Compute merges                           ███████░ 27300    /    30000\n",
      "\u001b[2K\u001b[1B\u001b[1A[00:01:39] Compute merges                           ███████░ 27600    /    30000\n",
      "\u001b[2K\u001b[1B\u001b[1A[00:01:39] Compute merges                           ███████░ 27900    /    30000\n",
      "\u001b[2K\u001b[1B\u001b[1A[00:01:39] Compute merges                           ███████░ 28200    /    30000\n",
      "\u001b[2K\u001b[1B\u001b[1A[00:01:39] Compute merges                           ███████░ 28500    /    30000\n",
      "\u001b[2K\u001b[1B\u001b[1A[00:01:39] Compute merges                           ███████░ 28800    /    30000\n",
      "\u001b[2K\u001b[1B\u001b[1A[00:01:39] Compute merges                           ███████░ 29100    /    30000\n",
      "\u001b[2K\u001b[1B\u001b[1A[00:01:39] Compute merges                           ███████░ 29400    /    30000\n",
      "\u001b[2K\u001b[1B\u001b[1A[00:01:39] Compute merges                           ███████░ 29700    /    30000\n",
      "\u001b[2K\u001b[1B\u001b[1A[00:01:39] Compute merges                           ████████ 29704    /    29704\n",
      "\n"
     ]
    }
   ],
   "source": [
    "!python3 train_tokenizer.py \\\n",
    "    --dir ./data \\\n",
    "    --files \"*.txt\" \\\n",
    "    --out ./config \\\n",
    "    --name bpe-bytelevel"
   ]
  },
  {
   "cell_type": "code",
   "execution_count": null,
   "metadata": {},
   "outputs": [],
   "source": []
  }
 ]
}